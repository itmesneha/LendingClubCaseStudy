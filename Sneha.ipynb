{
 "cells": [
  {
   "cell_type": "markdown",
   "metadata": {},
   "source": [
    "# Importing necessary libraries"
   ]
  },
  {
   "cell_type": "code",
   "execution_count": 102,
   "metadata": {},
   "outputs": [],
   "source": [
    "import pandas as pd\n",
    "import numpy as np\n",
    "import matplotlib.pyplot as plt\n",
    "import seaborn as sns\n",
    "import warnings\n",
    "warnings.filterwarnings('ignore')"
   ]
  },
  {
   "cell_type": "markdown",
   "metadata": {},
   "source": [
    "# Reading the csv file into pandas dataframe"
   ]
  },
  {
   "cell_type": "code",
   "execution_count": 103,
   "metadata": {},
   "outputs": [
    {
     "data": {
      "text/html": [
       "<div>\n",
       "<style scoped>\n",
       "    .dataframe tbody tr th:only-of-type {\n",
       "        vertical-align: middle;\n",
       "    }\n",
       "\n",
       "    .dataframe tbody tr th {\n",
       "        vertical-align: top;\n",
       "    }\n",
       "\n",
       "    .dataframe thead th {\n",
       "        text-align: right;\n",
       "    }\n",
       "</style>\n",
       "<table border=\"1\" class=\"dataframe\">\n",
       "  <thead>\n",
       "    <tr style=\"text-align: right;\">\n",
       "      <th></th>\n",
       "      <th>id</th>\n",
       "      <th>member_id</th>\n",
       "      <th>loan_amnt</th>\n",
       "      <th>funded_amnt</th>\n",
       "      <th>funded_amnt_inv</th>\n",
       "      <th>term</th>\n",
       "      <th>int_rate</th>\n",
       "      <th>installment</th>\n",
       "      <th>grade</th>\n",
       "      <th>sub_grade</th>\n",
       "      <th>...</th>\n",
       "      <th>num_tl_90g_dpd_24m</th>\n",
       "      <th>num_tl_op_past_12m</th>\n",
       "      <th>pct_tl_nvr_dlq</th>\n",
       "      <th>percent_bc_gt_75</th>\n",
       "      <th>pub_rec_bankruptcies</th>\n",
       "      <th>tax_liens</th>\n",
       "      <th>tot_hi_cred_lim</th>\n",
       "      <th>total_bal_ex_mort</th>\n",
       "      <th>total_bc_limit</th>\n",
       "      <th>total_il_high_credit_limit</th>\n",
       "    </tr>\n",
       "  </thead>\n",
       "  <tbody>\n",
       "    <tr>\n",
       "      <th>0</th>\n",
       "      <td>1077501</td>\n",
       "      <td>1296599</td>\n",
       "      <td>5000</td>\n",
       "      <td>5000</td>\n",
       "      <td>4975.0</td>\n",
       "      <td>36 months</td>\n",
       "      <td>10.65%</td>\n",
       "      <td>162.87</td>\n",
       "      <td>B</td>\n",
       "      <td>B2</td>\n",
       "      <td>...</td>\n",
       "      <td>NaN</td>\n",
       "      <td>NaN</td>\n",
       "      <td>NaN</td>\n",
       "      <td>NaN</td>\n",
       "      <td>0.0</td>\n",
       "      <td>0.0</td>\n",
       "      <td>NaN</td>\n",
       "      <td>NaN</td>\n",
       "      <td>NaN</td>\n",
       "      <td>NaN</td>\n",
       "    </tr>\n",
       "    <tr>\n",
       "      <th>1</th>\n",
       "      <td>1077430</td>\n",
       "      <td>1314167</td>\n",
       "      <td>2500</td>\n",
       "      <td>2500</td>\n",
       "      <td>2500.0</td>\n",
       "      <td>60 months</td>\n",
       "      <td>15.27%</td>\n",
       "      <td>59.83</td>\n",
       "      <td>C</td>\n",
       "      <td>C4</td>\n",
       "      <td>...</td>\n",
       "      <td>NaN</td>\n",
       "      <td>NaN</td>\n",
       "      <td>NaN</td>\n",
       "      <td>NaN</td>\n",
       "      <td>0.0</td>\n",
       "      <td>0.0</td>\n",
       "      <td>NaN</td>\n",
       "      <td>NaN</td>\n",
       "      <td>NaN</td>\n",
       "      <td>NaN</td>\n",
       "    </tr>\n",
       "    <tr>\n",
       "      <th>2</th>\n",
       "      <td>1077175</td>\n",
       "      <td>1313524</td>\n",
       "      <td>2400</td>\n",
       "      <td>2400</td>\n",
       "      <td>2400.0</td>\n",
       "      <td>36 months</td>\n",
       "      <td>15.96%</td>\n",
       "      <td>84.33</td>\n",
       "      <td>C</td>\n",
       "      <td>C5</td>\n",
       "      <td>...</td>\n",
       "      <td>NaN</td>\n",
       "      <td>NaN</td>\n",
       "      <td>NaN</td>\n",
       "      <td>NaN</td>\n",
       "      <td>0.0</td>\n",
       "      <td>0.0</td>\n",
       "      <td>NaN</td>\n",
       "      <td>NaN</td>\n",
       "      <td>NaN</td>\n",
       "      <td>NaN</td>\n",
       "    </tr>\n",
       "    <tr>\n",
       "      <th>3</th>\n",
       "      <td>1076863</td>\n",
       "      <td>1277178</td>\n",
       "      <td>10000</td>\n",
       "      <td>10000</td>\n",
       "      <td>10000.0</td>\n",
       "      <td>36 months</td>\n",
       "      <td>13.49%</td>\n",
       "      <td>339.31</td>\n",
       "      <td>C</td>\n",
       "      <td>C1</td>\n",
       "      <td>...</td>\n",
       "      <td>NaN</td>\n",
       "      <td>NaN</td>\n",
       "      <td>NaN</td>\n",
       "      <td>NaN</td>\n",
       "      <td>0.0</td>\n",
       "      <td>0.0</td>\n",
       "      <td>NaN</td>\n",
       "      <td>NaN</td>\n",
       "      <td>NaN</td>\n",
       "      <td>NaN</td>\n",
       "    </tr>\n",
       "    <tr>\n",
       "      <th>4</th>\n",
       "      <td>1075358</td>\n",
       "      <td>1311748</td>\n",
       "      <td>3000</td>\n",
       "      <td>3000</td>\n",
       "      <td>3000.0</td>\n",
       "      <td>60 months</td>\n",
       "      <td>12.69%</td>\n",
       "      <td>67.79</td>\n",
       "      <td>B</td>\n",
       "      <td>B5</td>\n",
       "      <td>...</td>\n",
       "      <td>NaN</td>\n",
       "      <td>NaN</td>\n",
       "      <td>NaN</td>\n",
       "      <td>NaN</td>\n",
       "      <td>0.0</td>\n",
       "      <td>0.0</td>\n",
       "      <td>NaN</td>\n",
       "      <td>NaN</td>\n",
       "      <td>NaN</td>\n",
       "      <td>NaN</td>\n",
       "    </tr>\n",
       "  </tbody>\n",
       "</table>\n",
       "<p>5 rows × 111 columns</p>\n",
       "</div>"
      ],
      "text/plain": [
       "        id  member_id  loan_amnt  funded_amnt  funded_amnt_inv        term  \\\n",
       "0  1077501    1296599       5000         5000           4975.0   36 months   \n",
       "1  1077430    1314167       2500         2500           2500.0   60 months   \n",
       "2  1077175    1313524       2400         2400           2400.0   36 months   \n",
       "3  1076863    1277178      10000        10000          10000.0   36 months   \n",
       "4  1075358    1311748       3000         3000           3000.0   60 months   \n",
       "\n",
       "  int_rate  installment grade sub_grade  ... num_tl_90g_dpd_24m  \\\n",
       "0   10.65%       162.87     B        B2  ...                NaN   \n",
       "1   15.27%        59.83     C        C4  ...                NaN   \n",
       "2   15.96%        84.33     C        C5  ...                NaN   \n",
       "3   13.49%       339.31     C        C1  ...                NaN   \n",
       "4   12.69%        67.79     B        B5  ...                NaN   \n",
       "\n",
       "  num_tl_op_past_12m pct_tl_nvr_dlq  percent_bc_gt_75 pub_rec_bankruptcies  \\\n",
       "0                NaN            NaN               NaN                  0.0   \n",
       "1                NaN            NaN               NaN                  0.0   \n",
       "2                NaN            NaN               NaN                  0.0   \n",
       "3                NaN            NaN               NaN                  0.0   \n",
       "4                NaN            NaN               NaN                  0.0   \n",
       "\n",
       "  tax_liens tot_hi_cred_lim total_bal_ex_mort total_bc_limit  \\\n",
       "0       0.0             NaN               NaN            NaN   \n",
       "1       0.0             NaN               NaN            NaN   \n",
       "2       0.0             NaN               NaN            NaN   \n",
       "3       0.0             NaN               NaN            NaN   \n",
       "4       0.0             NaN               NaN            NaN   \n",
       "\n",
       "  total_il_high_credit_limit  \n",
       "0                        NaN  \n",
       "1                        NaN  \n",
       "2                        NaN  \n",
       "3                        NaN  \n",
       "4                        NaN  \n",
       "\n",
       "[5 rows x 111 columns]"
      ]
     },
     "execution_count": 103,
     "metadata": {},
     "output_type": "execute_result"
    }
   ],
   "source": [
    "loan = pd.read_csv(\"loan.csv\")\n",
    "\n",
    "#seeing the first couple of rows\n",
    "loan.head()"
   ]
  },
  {
   "cell_type": "markdown",
   "metadata": {},
   "source": [
    "# Checking the data shape, info and data types of columns"
   ]
  },
  {
   "cell_type": "code",
   "execution_count": 104,
   "metadata": {},
   "outputs": [
    {
     "name": "stdout",
     "output_type": "stream",
     "text": [
      "(39717, 111)\n",
      "<class 'pandas.core.frame.DataFrame'>\n",
      "RangeIndex: 39717 entries, 0 to 39716\n",
      "Columns: 111 entries, id to total_il_high_credit_limit\n",
      "dtypes: float64(74), int64(13), object(24)\n",
      "memory usage: 33.6+ MB\n",
      "None\n",
      "id                              int64\n",
      "member_id                       int64\n",
      "loan_amnt                       int64\n",
      "funded_amnt                     int64\n",
      "funded_amnt_inv               float64\n",
      "                               ...   \n",
      "tax_liens                     float64\n",
      "tot_hi_cred_lim               float64\n",
      "total_bal_ex_mort             float64\n",
      "total_bc_limit                float64\n",
      "total_il_high_credit_limit    float64\n",
      "Length: 111, dtype: object\n"
     ]
    }
   ],
   "source": [
    "print(loan.shape)\n",
    "print(loan.info())\n",
    "print(loan.dtypes)"
   ]
  },
  {
   "cell_type": "markdown",
   "metadata": {},
   "source": [
    "# Checking for duplicates"
   ]
  },
  {
   "cell_type": "code",
   "execution_count": 105,
   "metadata": {},
   "outputs": [
    {
     "data": {
      "text/html": [
       "<div>\n",
       "<style scoped>\n",
       "    .dataframe tbody tr th:only-of-type {\n",
       "        vertical-align: middle;\n",
       "    }\n",
       "\n",
       "    .dataframe tbody tr th {\n",
       "        vertical-align: top;\n",
       "    }\n",
       "\n",
       "    .dataframe thead th {\n",
       "        text-align: right;\n",
       "    }\n",
       "</style>\n",
       "<table border=\"1\" class=\"dataframe\">\n",
       "  <thead>\n",
       "    <tr style=\"text-align: right;\">\n",
       "      <th></th>\n",
       "      <th>id</th>\n",
       "      <th>member_id</th>\n",
       "      <th>loan_amnt</th>\n",
       "      <th>funded_amnt</th>\n",
       "      <th>funded_amnt_inv</th>\n",
       "      <th>term</th>\n",
       "      <th>int_rate</th>\n",
       "      <th>installment</th>\n",
       "      <th>grade</th>\n",
       "      <th>sub_grade</th>\n",
       "      <th>...</th>\n",
       "      <th>num_tl_90g_dpd_24m</th>\n",
       "      <th>num_tl_op_past_12m</th>\n",
       "      <th>pct_tl_nvr_dlq</th>\n",
       "      <th>percent_bc_gt_75</th>\n",
       "      <th>pub_rec_bankruptcies</th>\n",
       "      <th>tax_liens</th>\n",
       "      <th>tot_hi_cred_lim</th>\n",
       "      <th>total_bal_ex_mort</th>\n",
       "      <th>total_bc_limit</th>\n",
       "      <th>total_il_high_credit_limit</th>\n",
       "    </tr>\n",
       "  </thead>\n",
       "  <tbody>\n",
       "  </tbody>\n",
       "</table>\n",
       "<p>0 rows × 111 columns</p>\n",
       "</div>"
      ],
      "text/plain": [
       "Empty DataFrame\n",
       "Columns: [id, member_id, loan_amnt, funded_amnt, funded_amnt_inv, term, int_rate, installment, grade, sub_grade, emp_title, emp_length, home_ownership, annual_inc, verification_status, issue_d, loan_status, pymnt_plan, url, desc, purpose, title, zip_code, addr_state, dti, delinq_2yrs, earliest_cr_line, inq_last_6mths, mths_since_last_delinq, mths_since_last_record, open_acc, pub_rec, revol_bal, revol_util, total_acc, initial_list_status, out_prncp, out_prncp_inv, total_pymnt, total_pymnt_inv, total_rec_prncp, total_rec_int, total_rec_late_fee, recoveries, collection_recovery_fee, last_pymnt_d, last_pymnt_amnt, next_pymnt_d, last_credit_pull_d, collections_12_mths_ex_med, mths_since_last_major_derog, policy_code, application_type, annual_inc_joint, dti_joint, verification_status_joint, acc_now_delinq, tot_coll_amt, tot_cur_bal, open_acc_6m, open_il_6m, open_il_12m, open_il_24m, mths_since_rcnt_il, total_bal_il, il_util, open_rv_12m, open_rv_24m, max_bal_bc, all_util, total_rev_hi_lim, inq_fi, total_cu_tl, inq_last_12m, acc_open_past_24mths, avg_cur_bal, bc_open_to_buy, bc_util, chargeoff_within_12_mths, delinq_amnt, mo_sin_old_il_acct, mo_sin_old_rev_tl_op, mo_sin_rcnt_rev_tl_op, mo_sin_rcnt_tl, mort_acc, mths_since_recent_bc, mths_since_recent_bc_dlq, mths_since_recent_inq, mths_since_recent_revol_delinq, num_accts_ever_120_pd, num_actv_bc_tl, num_actv_rev_tl, num_bc_sats, num_bc_tl, num_il_tl, num_op_rev_tl, num_rev_accts, num_rev_tl_bal_gt_0, num_sats, num_tl_120dpd_2m, ...]\n",
       "Index: []\n",
       "\n",
       "[0 rows x 111 columns]"
      ]
     },
     "execution_count": 105,
     "metadata": {},
     "output_type": "execute_result"
    }
   ],
   "source": [
    "# Checking for duplicates based on id column\n",
    "loan[loan.duplicated('id')]\n",
    "\n",
    "#there are no duplicates"
   ]
  },
  {
   "cell_type": "code",
   "execution_count": 106,
   "metadata": {},
   "outputs": [
    {
     "name": "stdout",
     "output_type": "stream",
     "text": [
      "(39717, 111)\n"
     ]
    }
   ],
   "source": [
    "print(loan.shape)"
   ]
  },
  {
   "cell_type": "markdown",
   "metadata": {},
   "source": [
    "# Dealing with null values"
   ]
  },
  {
   "cell_type": "code",
   "execution_count": 107,
   "metadata": {},
   "outputs": [
    {
     "name": "stdout",
     "output_type": "stream",
     "text": [
      "number of empty columns:\n",
      "54\n",
      "number of empty rows:\n",
      "0\n"
     ]
    }
   ],
   "source": [
    "# Checking for rows & columns that have null values\n",
    "\n",
    "print('number of empty columns:')\n",
    "print(loan.isnull().all(axis = 0).sum())\n",
    "\n",
    "print('number of empty rows:')\n",
    "print(loan.isnull().all(axis = 1).sum())"
   ]
  },
  {
   "cell_type": "code",
   "execution_count": 108,
   "metadata": {
    "scrolled": true
   },
   "outputs": [
    {
     "data": {
      "text/plain": [
       "id                                0\n",
       "member_id                         0\n",
       "loan_amnt                         0\n",
       "funded_amnt                       0\n",
       "funded_amnt_inv                   0\n",
       "                              ...  \n",
       "tax_liens                        39\n",
       "tot_hi_cred_lim               39717\n",
       "total_bal_ex_mort             39717\n",
       "total_bc_limit                39717\n",
       "total_il_high_credit_limit    39717\n",
       "Length: 111, dtype: int64"
      ]
     },
     "execution_count": 108,
     "metadata": {},
     "output_type": "execute_result"
    }
   ],
   "source": [
    "#checking which columns that have null values\n",
    "\n",
    "loan.isnull().sum()"
   ]
  },
  {
   "cell_type": "code",
   "execution_count": 109,
   "metadata": {},
   "outputs": [
    {
     "data": {
      "text/plain": [
       "(39717, 57)"
      ]
     },
     "execution_count": 109,
     "metadata": {},
     "output_type": "execute_result"
    }
   ],
   "source": [
    "#dropping columns with all values null\n",
    "\n",
    "loan.dropna(axis=1, how = 'all', inplace = True)\n",
    "loan.shape"
   ]
  },
  {
   "cell_type": "code",
   "execution_count": 110,
   "metadata": {
    "scrolled": true
   },
   "outputs": [
    {
     "data": {
      "text/plain": [
       "id                                0\n",
       "member_id                         0\n",
       "loan_amnt                         0\n",
       "funded_amnt                       0\n",
       "funded_amnt_inv                   0\n",
       "term                              0\n",
       "int_rate                          0\n",
       "installment                       0\n",
       "grade                             0\n",
       "sub_grade                         0\n",
       "emp_title                      2459\n",
       "emp_length                     1075\n",
       "home_ownership                    0\n",
       "annual_inc                        0\n",
       "verification_status               0\n",
       "issue_d                           0\n",
       "loan_status                       0\n",
       "pymnt_plan                        0\n",
       "url                               0\n",
       "desc                          12940\n",
       "purpose                           0\n",
       "title                            11\n",
       "zip_code                          0\n",
       "addr_state                        0\n",
       "dti                               0\n",
       "delinq_2yrs                       0\n",
       "earliest_cr_line                  0\n",
       "inq_last_6mths                    0\n",
       "mths_since_last_delinq        25682\n",
       "mths_since_last_record        36931\n",
       "open_acc                          0\n",
       "pub_rec                           0\n",
       "revol_bal                         0\n",
       "revol_util                       50\n",
       "total_acc                         0\n",
       "initial_list_status               0\n",
       "out_prncp                         0\n",
       "out_prncp_inv                     0\n",
       "total_pymnt                       0\n",
       "total_pymnt_inv                   0\n",
       "total_rec_prncp                   0\n",
       "total_rec_int                     0\n",
       "total_rec_late_fee                0\n",
       "recoveries                        0\n",
       "collection_recovery_fee           0\n",
       "last_pymnt_d                     71\n",
       "last_pymnt_amnt                   0\n",
       "next_pymnt_d                  38577\n",
       "last_credit_pull_d                2\n",
       "collections_12_mths_ex_med       56\n",
       "policy_code                       0\n",
       "application_type                  0\n",
       "acc_now_delinq                    0\n",
       "chargeoff_within_12_mths         56\n",
       "delinq_amnt                       0\n",
       "pub_rec_bankruptcies            697\n",
       "tax_liens                        39\n",
       "dtype: int64"
      ]
     },
     "execution_count": 110,
     "metadata": {},
     "output_type": "execute_result"
    }
   ],
   "source": [
    "loan.isnull().sum()\n",
    "\n",
    "#so there are still some columns with null values"
   ]
  },
  {
   "cell_type": "code",
   "execution_count": 111,
   "metadata": {
    "scrolled": true
   },
   "outputs": [
    {
     "data": {
      "text/plain": [
       "(39717, 52)"
      ]
     },
     "execution_count": 111,
     "metadata": {},
     "output_type": "execute_result"
    }
   ],
   "source": [
    "#dropping columns that have excessive null values and would be irrelevant\n",
    "\n",
    "loan.drop(['emp_title', 'desc', 'mths_since_last_delinq', 'mths_since_last_record', 'next_pymnt_d'], axis=1, inplace = True)\n",
    "\n",
    "loan.shape"
   ]
  },
  {
   "cell_type": "code",
   "execution_count": 112,
   "metadata": {
    "scrolled": true
   },
   "outputs": [
    {
     "data": {
      "text/plain": [
       "id                               0\n",
       "member_id                        0\n",
       "loan_amnt                        0\n",
       "funded_amnt                      0\n",
       "funded_amnt_inv                  0\n",
       "term                             0\n",
       "int_rate                         0\n",
       "installment                      0\n",
       "grade                            0\n",
       "sub_grade                        0\n",
       "emp_length                    1075\n",
       "home_ownership                   0\n",
       "annual_inc                       0\n",
       "verification_status              0\n",
       "issue_d                          0\n",
       "loan_status                      0\n",
       "pymnt_plan                       0\n",
       "url                              0\n",
       "purpose                          0\n",
       "title                           11\n",
       "zip_code                         0\n",
       "addr_state                       0\n",
       "dti                              0\n",
       "delinq_2yrs                      0\n",
       "earliest_cr_line                 0\n",
       "inq_last_6mths                   0\n",
       "open_acc                         0\n",
       "pub_rec                          0\n",
       "revol_bal                        0\n",
       "revol_util                      50\n",
       "total_acc                        0\n",
       "initial_list_status              0\n",
       "out_prncp                        0\n",
       "out_prncp_inv                    0\n",
       "total_pymnt                      0\n",
       "total_pymnt_inv                  0\n",
       "total_rec_prncp                  0\n",
       "total_rec_int                    0\n",
       "total_rec_late_fee               0\n",
       "recoveries                       0\n",
       "collection_recovery_fee          0\n",
       "last_pymnt_d                    71\n",
       "last_pymnt_amnt                  0\n",
       "last_credit_pull_d               2\n",
       "collections_12_mths_ex_med      56\n",
       "policy_code                      0\n",
       "application_type                 0\n",
       "acc_now_delinq                   0\n",
       "chargeoff_within_12_mths        56\n",
       "delinq_amnt                      0\n",
       "pub_rec_bankruptcies           697\n",
       "tax_liens                       39\n",
       "dtype: int64"
      ]
     },
     "execution_count": 112,
     "metadata": {},
     "output_type": "execute_result"
    }
   ],
   "source": [
    "loan.isnull().sum()"
   ]
  },
  {
   "cell_type": "markdown",
   "metadata": {},
   "source": [
    "### Checking columns that are single-valued"
   ]
  },
  {
   "cell_type": "code",
   "execution_count": 113,
   "metadata": {
    "scrolled": true
   },
   "outputs": [
    {
     "data": {
      "text/plain": [
       "array([ 0., nan])"
      ]
     },
     "execution_count": 113,
     "metadata": {},
     "output_type": "execute_result"
    }
   ],
   "source": [
    "loan.collections_12_mths_ex_med.unique()"
   ]
  },
  {
   "cell_type": "code",
   "execution_count": 114,
   "metadata": {},
   "outputs": [
    {
     "data": {
      "text/plain": [
       "array([ 0., nan])"
      ]
     },
     "execution_count": 114,
     "metadata": {},
     "output_type": "execute_result"
    }
   ],
   "source": [
    "loan.chargeoff_within_12_mths.unique()"
   ]
  },
  {
   "cell_type": "code",
   "execution_count": 115,
   "metadata": {},
   "outputs": [
    {
     "data": {
      "text/plain": [
       "array([ 0.,  1.,  2., nan])"
      ]
     },
     "execution_count": 115,
     "metadata": {},
     "output_type": "execute_result"
    }
   ],
   "source": [
    "loan.pub_rec_bankruptcies.unique()\n",
    "\n",
    "#this column has a couple of values but too few for proper analysis."
   ]
  },
  {
   "cell_type": "code",
   "execution_count": 116,
   "metadata": {},
   "outputs": [
    {
     "data": {
      "text/plain": [
       "array([ 0., nan])"
      ]
     },
     "execution_count": 116,
     "metadata": {},
     "output_type": "execute_result"
    }
   ],
   "source": [
    "loan.tax_liens.unique()"
   ]
  },
  {
   "cell_type": "markdown",
   "metadata": {},
   "source": [
    "### Dropping single-valued columns"
   ]
  },
  {
   "cell_type": "code",
   "execution_count": 117,
   "metadata": {},
   "outputs": [
    {
     "data": {
      "text/plain": [
       "(39717, 48)"
      ]
     },
     "execution_count": 117,
     "metadata": {},
     "output_type": "execute_result"
    }
   ],
   "source": [
    "loan.drop(['collections_12_mths_ex_med', 'chargeoff_within_12_mths', 'pub_rec_bankruptcies','tax_liens'],axis = 1, inplace = True)\n",
    "loan.shape"
   ]
  },
  {
   "cell_type": "code",
   "execution_count": 118,
   "metadata": {
    "scrolled": true
   },
   "outputs": [
    {
     "data": {
      "text/plain": [
       "id                            0\n",
       "member_id                     0\n",
       "loan_amnt                     0\n",
       "funded_amnt                   0\n",
       "funded_amnt_inv               0\n",
       "term                          0\n",
       "int_rate                      0\n",
       "installment                   0\n",
       "grade                         0\n",
       "sub_grade                     0\n",
       "emp_length                 1075\n",
       "home_ownership                0\n",
       "annual_inc                    0\n",
       "verification_status           0\n",
       "issue_d                       0\n",
       "loan_status                   0\n",
       "pymnt_plan                    0\n",
       "url                           0\n",
       "purpose                       0\n",
       "title                        11\n",
       "zip_code                      0\n",
       "addr_state                    0\n",
       "dti                           0\n",
       "delinq_2yrs                   0\n",
       "earliest_cr_line              0\n",
       "inq_last_6mths                0\n",
       "open_acc                      0\n",
       "pub_rec                       0\n",
       "revol_bal                     0\n",
       "revol_util                   50\n",
       "total_acc                     0\n",
       "initial_list_status           0\n",
       "out_prncp                     0\n",
       "out_prncp_inv                 0\n",
       "total_pymnt                   0\n",
       "total_pymnt_inv               0\n",
       "total_rec_prncp               0\n",
       "total_rec_int                 0\n",
       "total_rec_late_fee            0\n",
       "recoveries                    0\n",
       "collection_recovery_fee       0\n",
       "last_pymnt_d                 71\n",
       "last_pymnt_amnt               0\n",
       "last_credit_pull_d            2\n",
       "policy_code                   0\n",
       "application_type              0\n",
       "acc_now_delinq                0\n",
       "delinq_amnt                   0\n",
       "dtype: int64"
      ]
     },
     "execution_count": 118,
     "metadata": {},
     "output_type": "execute_result"
    }
   ],
   "source": [
    "loan.isnull().sum()"
   ]
  },
  {
   "cell_type": "markdown",
   "metadata": {},
   "source": [
    "### The remaining columns with null values - \n",
    "1. title - The loan title provided by the borrower\n",
    "2. last_pymnt_d - Last month payment was received\n",
    "3. last_credit_pull_d - The most recent month LC pulled credit for this loan\n",
    "\n",
    "### These columns make no meaningful contribution to our analysis for whether or not a person will default with a loan, therefore dropping them."
   ]
  },
  {
   "cell_type": "code",
   "execution_count": 119,
   "metadata": {},
   "outputs": [
    {
     "data": {
      "text/plain": [
       "(39717, 45)"
      ]
     },
     "execution_count": 119,
     "metadata": {},
     "output_type": "execute_result"
    }
   ],
   "source": [
    "loan.drop(['title', 'last_pymnt_d','last_credit_pull_d'],axis = 1, inplace = True)\n",
    "loan.shape"
   ]
  },
  {
   "cell_type": "code",
   "execution_count": 120,
   "metadata": {
    "scrolled": true
   },
   "outputs": [
    {
     "data": {
      "text/plain": [
       "id                            0\n",
       "member_id                     0\n",
       "loan_amnt                     0\n",
       "funded_amnt                   0\n",
       "funded_amnt_inv               0\n",
       "term                          0\n",
       "int_rate                      0\n",
       "installment                   0\n",
       "grade                         0\n",
       "sub_grade                     0\n",
       "emp_length                 1075\n",
       "home_ownership                0\n",
       "annual_inc                    0\n",
       "verification_status           0\n",
       "issue_d                       0\n",
       "loan_status                   0\n",
       "pymnt_plan                    0\n",
       "url                           0\n",
       "purpose                       0\n",
       "zip_code                      0\n",
       "addr_state                    0\n",
       "dti                           0\n",
       "delinq_2yrs                   0\n",
       "earliest_cr_line              0\n",
       "inq_last_6mths                0\n",
       "open_acc                      0\n",
       "pub_rec                       0\n",
       "revol_bal                     0\n",
       "revol_util                   50\n",
       "total_acc                     0\n",
       "initial_list_status           0\n",
       "out_prncp                     0\n",
       "out_prncp_inv                 0\n",
       "total_pymnt                   0\n",
       "total_pymnt_inv               0\n",
       "total_rec_prncp               0\n",
       "total_rec_int                 0\n",
       "total_rec_late_fee            0\n",
       "recoveries                    0\n",
       "collection_recovery_fee       0\n",
       "last_pymnt_amnt               0\n",
       "policy_code                   0\n",
       "application_type              0\n",
       "acc_now_delinq                0\n",
       "delinq_amnt                   0\n",
       "dtype: int64"
      ]
     },
     "execution_count": 120,
     "metadata": {},
     "output_type": "execute_result"
    }
   ],
   "source": [
    "loan.isnull().sum()"
   ]
  },
  {
   "cell_type": "markdown",
   "metadata": {},
   "source": [
    "# Dealing with single-valued non-null columns"
   ]
  },
  {
   "cell_type": "code",
   "execution_count": 121,
   "metadata": {
    "scrolled": true
   },
   "outputs": [
    {
     "data": {
      "text/plain": [
       "id                         39717\n",
       "member_id                  39717\n",
       "loan_amnt                    885\n",
       "funded_amnt                 1041\n",
       "funded_amnt_inv             8205\n",
       "term                           2\n",
       "int_rate                     371\n",
       "installment                15383\n",
       "grade                          7\n",
       "sub_grade                     35\n",
       "emp_length                    11\n",
       "home_ownership                 5\n",
       "annual_inc                  5318\n",
       "verification_status            3\n",
       "issue_d                       55\n",
       "loan_status                    3\n",
       "pymnt_plan                     1\n",
       "url                        39717\n",
       "purpose                       14\n",
       "zip_code                     823\n",
       "addr_state                    50\n",
       "dti                         2868\n",
       "delinq_2yrs                   11\n",
       "earliest_cr_line             526\n",
       "inq_last_6mths                 9\n",
       "open_acc                      40\n",
       "pub_rec                        5\n",
       "revol_bal                  21711\n",
       "revol_util                  1089\n",
       "total_acc                     82\n",
       "initial_list_status            1\n",
       "out_prncp                   1137\n",
       "out_prncp_inv               1138\n",
       "total_pymnt                37850\n",
       "total_pymnt_inv            37518\n",
       "total_rec_prncp             7976\n",
       "total_rec_int              35148\n",
       "total_rec_late_fee          1356\n",
       "recoveries                  4040\n",
       "collection_recovery_fee     2616\n",
       "last_pymnt_amnt            34930\n",
       "policy_code                    1\n",
       "application_type               1\n",
       "acc_now_delinq                 1\n",
       "delinq_amnt                    1\n",
       "dtype: int64"
      ]
     },
     "execution_count": 121,
     "metadata": {},
     "output_type": "execute_result"
    }
   ],
   "source": [
    "loan.nunique()"
   ]
  },
  {
   "cell_type": "markdown",
   "metadata": {},
   "source": [
    "### So, single valued columns- \n",
    "- pymnt_plan\n",
    "- initial_list_status\n",
    "- policy_code\n",
    "- application_type\n",
    "- acc_now_delinq\n",
    "- delinq_amnt\n",
    "\n",
    "### Dropping these columns as single values cannot help our analysis"
   ]
  },
  {
   "cell_type": "code",
   "execution_count": 122,
   "metadata": {},
   "outputs": [
    {
     "data": {
      "text/plain": [
       "(39717, 39)"
      ]
     },
     "execution_count": 122,
     "metadata": {},
     "output_type": "execute_result"
    }
   ],
   "source": [
    "loan.drop(['pymnt_plan', 'initial_list_status', 'policy_code','application_type', 'acc_now_delinq', 'delinq_amnt'],axis = 1, inplace = True)\n",
    "loan.shape"
   ]
  },
  {
   "cell_type": "code",
   "execution_count": 123,
   "metadata": {},
   "outputs": [
    {
     "data": {
      "text/plain": [
       "Index(['id', 'member_id', 'loan_amnt', 'funded_amnt', 'funded_amnt_inv',\n",
       "       'term', 'int_rate', 'installment', 'grade', 'sub_grade', 'emp_length',\n",
       "       'home_ownership', 'annual_inc', 'verification_status', 'issue_d',\n",
       "       'loan_status', 'url', 'purpose', 'zip_code', 'addr_state', 'dti',\n",
       "       'delinq_2yrs', 'earliest_cr_line', 'inq_last_6mths', 'open_acc',\n",
       "       'pub_rec', 'revol_bal', 'revol_util', 'total_acc', 'out_prncp',\n",
       "       'out_prncp_inv', 'total_pymnt', 'total_pymnt_inv', 'total_rec_prncp',\n",
       "       'total_rec_int', 'total_rec_late_fee', 'recoveries',\n",
       "       'collection_recovery_fee', 'last_pymnt_amnt'],\n",
       "      dtype='object')"
      ]
     },
     "execution_count": 123,
     "metadata": {},
     "output_type": "execute_result"
    }
   ],
   "source": [
    "#checking columns we have now \n",
    "\n",
    "loan.columns"
   ]
  },
  {
   "cell_type": "markdown",
   "metadata": {},
   "source": [
    "# Columns that do not hold relevant information:\n",
    "\n",
    "1. id \n",
    "2. member_id \n",
    "3. funded_amnt - we have a funded amount inv column so we can remove this one.\n",
    "4. url \n",
    "5. zip_code \n",
    "6. addr_state \n",
    "7. out_prncp_inv \n",
    "8. total_pymnt_inv \n",
    "\n",
    "# Columns that would be relevant only if the loan was approved, hence not relevant now:\n",
    "\n",
    "1. out_prncp \n",
    "2. total_pymnt\n",
    "3. total_rec_prncp \n",
    "4. total_rec_int\n",
    "5. total_rec_late_fee\n",
    "6. recoveries\n",
    "7. collection_recovery_fee\n",
    "8. last_pymnt_amnt\n",
    "9. next_pymnt_d"
   ]
  },
  {
   "cell_type": "markdown",
   "metadata": {},
   "source": [
    "# Dropping these columns"
   ]
  },
  {
   "cell_type": "code",
   "execution_count": 124,
   "metadata": {},
   "outputs": [
    {
     "data": {
      "text/plain": [
       "(39717, 22)"
      ]
     },
     "execution_count": 124,
     "metadata": {},
     "output_type": "execute_result"
    }
   ],
   "source": [
    "loan.drop(['id', 'member_id', 'funded_amnt', 'url', 'zip_code', 'addr_state', 'out_prncp_inv', 'total_pymnt_inv', 'revol_bal', 'out_prncp', 'total_pymnt', 'total_rec_prncp', 'total_rec_int', 'total_rec_late_fee', 'recoveries', 'collection_recovery_fee', 'last_pymnt_amnt'] ,axis = 1, inplace = True)\n",
    "\n",
    "loan.shape"
   ]
  },
  {
   "cell_type": "code",
   "execution_count": 125,
   "metadata": {},
   "outputs": [
    {
     "data": {
      "text/plain": [
       "Index(['loan_amnt', 'funded_amnt_inv', 'term', 'int_rate', 'installment',\n",
       "       'grade', 'sub_grade', 'emp_length', 'home_ownership', 'annual_inc',\n",
       "       'verification_status', 'issue_d', 'loan_status', 'purpose', 'dti',\n",
       "       'delinq_2yrs', 'earliest_cr_line', 'inq_last_6mths', 'open_acc',\n",
       "       'pub_rec', 'revol_util', 'total_acc'],\n",
       "      dtype='object')"
      ]
     },
     "execution_count": 125,
     "metadata": {},
     "output_type": "execute_result"
    }
   ],
   "source": [
    "#checking columns we have now \n",
    "\n",
    "loan.columns"
   ]
  },
  {
   "cell_type": "markdown",
   "metadata": {},
   "source": [
    "# Taking a look at individual columns"
   ]
  },
  {
   "cell_type": "markdown",
   "metadata": {},
   "source": [
    "### loan_status Column"
   ]
  },
  {
   "cell_type": "code",
   "execution_count": 126,
   "metadata": {},
   "outputs": [
    {
     "data": {
      "text/plain": [
       "array(['Fully Paid', 'Charged Off', 'Current'], dtype=object)"
      ]
     },
     "execution_count": 126,
     "metadata": {},
     "output_type": "execute_result"
    }
   ],
   "source": [
    "loan.loan_status.unique()"
   ]
  },
  {
   "cell_type": "markdown",
   "metadata": {},
   "source": [
    "### Goal of analysis - identify patterns which indicate if a person is likely to default. Thus, we can do analysis only for fully paid or charged off loans i.e. not current ones.\n",
    "\n",
    "#### Therefore, dropping records with loan_status = current."
   ]
  },
  {
   "cell_type": "code",
   "execution_count": 127,
   "metadata": {},
   "outputs": [],
   "source": [
    "loan = loan[~(loan.loan_status == 'Current')]"
   ]
  },
  {
   "cell_type": "code",
   "execution_count": 128,
   "metadata": {},
   "outputs": [
    {
     "data": {
      "text/plain": [
       "array(['Fully Paid', 'Charged Off'], dtype=object)"
      ]
     },
     "execution_count": 128,
     "metadata": {},
     "output_type": "execute_result"
    }
   ],
   "source": [
    "loan.loan_status.unique()"
   ]
  },
  {
   "cell_type": "code",
   "execution_count": 129,
   "metadata": {},
   "outputs": [
    {
     "data": {
      "text/plain": [
       "(38577, 22)"
      ]
     },
     "execution_count": 129,
     "metadata": {},
     "output_type": "execute_result"
    }
   ],
   "source": [
    "loan.shape"
   ]
  },
  {
   "cell_type": "markdown",
   "metadata": {},
   "source": [
    "#### Checking the data types of each column"
   ]
  },
  {
   "cell_type": "code",
   "execution_count": 130,
   "metadata": {},
   "outputs": [
    {
     "name": "stdout",
     "output_type": "stream",
     "text": [
      "<class 'pandas.core.frame.DataFrame'>\n",
      "Int64Index: 38577 entries, 0 to 39716\n",
      "Data columns (total 22 columns):\n",
      " #   Column               Non-Null Count  Dtype  \n",
      "---  ------               --------------  -----  \n",
      " 0   loan_amnt            38577 non-null  int64  \n",
      " 1   funded_amnt_inv      38577 non-null  float64\n",
      " 2   term                 38577 non-null  object \n",
      " 3   int_rate             38577 non-null  object \n",
      " 4   installment          38577 non-null  float64\n",
      " 5   grade                38577 non-null  object \n",
      " 6   sub_grade            38577 non-null  object \n",
      " 7   emp_length           37544 non-null  object \n",
      " 8   home_ownership       38577 non-null  object \n",
      " 9   annual_inc           38577 non-null  float64\n",
      " 10  verification_status  38577 non-null  object \n",
      " 11  issue_d              38577 non-null  object \n",
      " 12  loan_status          38577 non-null  object \n",
      " 13  purpose              38577 non-null  object \n",
      " 14  dti                  38577 non-null  float64\n",
      " 15  delinq_2yrs          38577 non-null  int64  \n",
      " 16  earliest_cr_line     38577 non-null  object \n",
      " 17  inq_last_6mths       38577 non-null  int64  \n",
      " 18  open_acc             38577 non-null  int64  \n",
      " 19  pub_rec              38577 non-null  int64  \n",
      " 20  revol_util           38527 non-null  object \n",
      " 21  total_acc            38577 non-null  int64  \n",
      "dtypes: float64(4), int64(6), object(12)\n",
      "memory usage: 6.8+ MB\n"
     ]
    }
   ],
   "source": [
    "loan.info()"
   ]
  },
  {
   "cell_type": "markdown",
   "metadata": {},
   "source": [
    "### Handling missing values for relevant columns"
   ]
  },
  {
   "cell_type": "code",
   "execution_count": 131,
   "metadata": {},
   "outputs": [
    {
     "data": {
      "text/plain": [
       "loan_amnt                 0\n",
       "funded_amnt_inv           0\n",
       "term                      0\n",
       "int_rate                  0\n",
       "installment               0\n",
       "grade                     0\n",
       "sub_grade                 0\n",
       "emp_length             1033\n",
       "home_ownership            0\n",
       "annual_inc                0\n",
       "verification_status       0\n",
       "issue_d                   0\n",
       "loan_status               0\n",
       "purpose                   0\n",
       "dti                       0\n",
       "delinq_2yrs               0\n",
       "earliest_cr_line          0\n",
       "inq_last_6mths            0\n",
       "open_acc                  0\n",
       "pub_rec                   0\n",
       "revol_util               50\n",
       "total_acc                 0\n",
       "dtype: int64"
      ]
     },
     "execution_count": 131,
     "metadata": {},
     "output_type": "execute_result"
    }
   ],
   "source": [
    "loan.isnull().sum()"
   ]
  },
  {
   "cell_type": "markdown",
   "metadata": {},
   "source": [
    "#### emp_length & revol_util have some missing values."
   ]
  },
  {
   "cell_type": "markdown",
   "metadata": {},
   "source": [
    "### Taking a look at emp_length & revol_util columns"
   ]
  },
  {
   "cell_type": "code",
   "execution_count": 132,
   "metadata": {
    "scrolled": true
   },
   "outputs": [
    {
     "data": {
      "text/plain": [
       "count         37544\n",
       "unique           11\n",
       "top       10+ years\n",
       "freq           8488\n",
       "Name: emp_length, dtype: object"
      ]
     },
     "execution_count": 132,
     "metadata": {},
     "output_type": "execute_result"
    }
   ],
   "source": [
    "loan.emp_length.describe()"
   ]
  },
  {
   "cell_type": "code",
   "execution_count": 133,
   "metadata": {},
   "outputs": [
    {
     "data": {
      "text/plain": [
       "dtype('O')"
      ]
     },
     "execution_count": 133,
     "metadata": {},
     "output_type": "execute_result"
    }
   ],
   "source": [
    "loan.emp_length.dtype"
   ]
  },
  {
   "cell_type": "code",
   "execution_count": 134,
   "metadata": {},
   "outputs": [
    {
     "name": "stdout",
     "output_type": "stream",
     "text": [
      "Mode value of emp_length: 0    10+ years\n",
      "Name: emp_length, dtype: object\n"
     ]
    },
    {
     "data": {
      "text/plain": [
       "10+ years    8488\n",
       "< 1 year     4508\n",
       "2 years      4291\n",
       "3 years      4012\n",
       "4 years      3342\n",
       "5 years      3194\n",
       "1 year       3169\n",
       "6 years      2168\n",
       "7 years      1711\n",
       "8 years      1435\n",
       "9 years      1226\n",
       "Name: emp_length, dtype: int64"
      ]
     },
     "execution_count": 134,
     "metadata": {},
     "output_type": "execute_result"
    }
   ],
   "source": [
    "print('Mode value of emp_length:', loan.emp_length.mode())\n",
    "loan.emp_length.value_counts()"
   ]
  },
  {
   "cell_type": "markdown",
   "metadata": {},
   "source": [
    "#### Above results, show mode value has very high frequency compared to any other values. Missing value count is also very low compared to whole data set, so we can replace missing values with the mode value."
   ]
  },
  {
   "cell_type": "code",
   "execution_count": 135,
   "metadata": {},
   "outputs": [],
   "source": [
    "loan.emp_length.fillna(loan.emp_length.mode()[0], inplace = True)"
   ]
  },
  {
   "cell_type": "code",
   "execution_count": 136,
   "metadata": {},
   "outputs": [
    {
     "data": {
      "text/plain": [
       "0"
      ]
     },
     "execution_count": 136,
     "metadata": {},
     "output_type": "execute_result"
    }
   ],
   "source": [
    "loan.emp_length.isnull().sum()"
   ]
  },
  {
   "cell_type": "markdown",
   "metadata": {},
   "source": [
    "#### As revol_util has very few null values, dropping those rows."
   ]
  },
  {
   "cell_type": "code",
   "execution_count": 137,
   "metadata": {},
   "outputs": [],
   "source": [
    "loan.dropna(axis = 0, inplace = True, subset = ['revol_util'])"
   ]
  },
  {
   "cell_type": "code",
   "execution_count": 138,
   "metadata": {},
   "outputs": [
    {
     "data": {
      "text/plain": [
       "(38527, 22)"
      ]
     },
     "execution_count": 138,
     "metadata": {},
     "output_type": "execute_result"
    }
   ],
   "source": [
    "loan.shape"
   ]
  },
  {
   "cell_type": "markdown",
   "metadata": {},
   "source": [
    "#### Therefore emp_length has all non-null values now."
   ]
  },
  {
   "cell_type": "markdown",
   "metadata": {},
   "source": [
    "# Standardizing Values"
   ]
  },
  {
   "cell_type": "code",
   "execution_count": 139,
   "metadata": {
    "scrolled": false
   },
   "outputs": [
    {
     "data": {
      "text/plain": [
       "array(['83.70%', '9.40%', '98.50%', ..., '49.63%', '0.04%', '7.28%'],\n",
       "      dtype=object)"
      ]
     },
     "execution_count": 139,
     "metadata": {},
     "output_type": "execute_result"
    }
   ],
   "source": [
    "loan.revol_util.unique()"
   ]
  },
  {
   "cell_type": "code",
   "execution_count": 140,
   "metadata": {},
   "outputs": [
    {
     "data": {
      "text/plain": [
       "array(['10+ years', '< 1 year', '3 years', '8 years', '9 years',\n",
       "       '4 years', '5 years', '1 year', '6 years', '2 years', '7 years'],\n",
       "      dtype=object)"
      ]
     },
     "execution_count": 140,
     "metadata": {},
     "output_type": "execute_result"
    }
   ],
   "source": [
    "loan.emp_length.unique()"
   ]
  },
  {
   "cell_type": "code",
   "execution_count": 141,
   "metadata": {
    "scrolled": true
   },
   "outputs": [
    {
     "data": {
      "text/plain": [
       "array(['10.65%', '15.27%', '15.96%', '13.49%', '7.90%', '18.64%',\n",
       "       '21.28%', '12.69%', '14.65%', '9.91%', '16.29%', '6.03%', '11.71%',\n",
       "       '12.42%', '14.27%', '16.77%', '7.51%', '8.90%', '18.25%', '6.62%',\n",
       "       '19.91%', '17.27%', '17.58%', '21.67%', '19.42%', '20.89%',\n",
       "       '20.30%', '23.91%', '19.03%', '23.13%', '22.74%', '22.35%',\n",
       "       '22.06%', '24.11%', '6.00%', '23.52%', '22.11%', '7.49%', '11.99%',\n",
       "       '5.99%', '10.99%', '9.99%', '18.79%', '11.49%', '8.49%', '15.99%',\n",
       "       '16.49%', '6.99%', '12.99%', '15.23%', '14.79%', '5.42%', '10.59%',\n",
       "       '17.49%', '15.62%', '19.29%', '13.99%', '18.39%', '16.89%',\n",
       "       '17.99%', '20.99%', '22.85%', '19.69%', '20.62%', '20.25%',\n",
       "       '21.36%', '23.22%', '21.74%', '22.48%', '23.59%', '12.62%',\n",
       "       '18.07%', '11.63%', '7.91%', '7.42%', '11.14%', '20.20%', '12.12%',\n",
       "       '19.39%', '16.11%', '17.54%', '22.64%', '13.84%', '16.59%',\n",
       "       '17.19%', '12.87%', '20.69%', '9.67%', '21.82%', '19.79%',\n",
       "       '18.49%', '22.94%', '24.40%', '21.48%', '14.82%', '14.17%',\n",
       "       '7.29%', '17.88%', '20.11%', '16.02%', '13.43%', '14.91%',\n",
       "       '13.06%', '15.28%', '15.65%', '17.14%', '11.11%', '10.37%',\n",
       "       '16.40%', '17.51%', '7.66%', '18.62%', '10.74%', '5.79%', '6.92%',\n",
       "       '10.00%', '9.63%', '14.54%', '12.68%', '19.36%', '13.80%',\n",
       "       '18.99%', '21.59%', '20.85%', '21.22%', '19.74%', '20.48%',\n",
       "       '6.91%', '12.23%', '12.61%', '10.36%', '6.17%', '6.54%', '9.25%',\n",
       "       '16.69%', '15.95%', '8.88%', '13.35%', '9.62%', '16.32%', '12.98%',\n",
       "       '14.83%', '13.72%', '14.09%', '14.46%', '20.03%', '17.80%',\n",
       "       '15.20%', '15.57%', '18.54%', '19.66%', '17.06%', '18.17%',\n",
       "       '17.43%', '20.40%', '20.77%', '18.91%', '21.14%', '17.44%',\n",
       "       '13.23%', '7.88%', '11.12%', '13.61%', '10.38%', '17.56%',\n",
       "       '17.93%', '15.58%', '13.98%', '14.84%', '15.21%', '6.76%', '6.39%',\n",
       "       '11.86%', '7.14%', '14.35%', '16.82%', '10.75%', '14.72%',\n",
       "       '16.45%', '18.67%', '20.53%', '19.41%', '20.16%', '21.27%',\n",
       "       '18.30%', '19.04%', '20.90%', '21.64%', '12.73%', '10.25%',\n",
       "       '13.11%', '10.62%', '13.48%', '14.59%', '16.07%', '15.70%',\n",
       "       '9.88%', '11.36%', '15.33%', '13.85%', '14.96%', '14.22%', '7.74%',\n",
       "       '13.22%', '13.57%', '8.59%', '17.04%', '14.61%', '8.94%', '12.18%',\n",
       "       '11.83%', '11.48%', '16.35%', '13.92%', '15.31%', '14.26%',\n",
       "       '19.13%', '12.53%', '16.70%', '16.00%', '17.39%', '18.09%',\n",
       "       '7.40%', '18.43%', '17.74%', '7.05%', '20.52%', '20.86%', '19.47%',\n",
       "       '18.78%', '21.21%', '19.82%', '20.17%', '13.16%', '8.00%',\n",
       "       '13.47%', '12.21%', '16.63%', '9.32%', '12.84%', '11.26%',\n",
       "       '15.68%', '15.37%', '10.95%', '11.89%', '14.11%', '13.79%',\n",
       "       '7.68%', '11.58%', '7.37%', '16.95%', '15.05%', '18.53%', '14.74%',\n",
       "       '14.42%', '18.21%', '17.26%', '18.84%', '17.90%', '19.16%',\n",
       "       '13.67%', '9.38%', '12.72%', '13.36%', '11.46%', '10.51%', '9.07%',\n",
       "       '13.04%', '11.78%', '12.41%', '10.83%', '12.09%', '17.46%',\n",
       "       '14.30%', '17.15%', '15.25%', '10.20%', '15.88%', '14.93%',\n",
       "       '16.20%', '18.72%', '14.62%', '8.32%', '14.12%', '10.96%',\n",
       "       '10.33%', '10.01%', '12.86%', '11.28%', '11.59%', '8.63%',\n",
       "       '12.54%', '12.22%', '11.91%', '15.38%', '16.96%', '13.17%',\n",
       "       '9.70%', '16.33%', '14.75%', '15.07%', '16.01%', '10.71%',\n",
       "       '10.64%', '9.76%', '11.34%', '10.39%', '13.87%', '11.03%',\n",
       "       '11.66%', '13.24%', '10.08%', '9.45%', '13.55%', '12.29%',\n",
       "       '11.97%', '12.92%', '15.45%', '14.50%', '14.18%', '15.13%',\n",
       "       '16.08%', '15.76%', '17.03%', '17.34%', '16.71%', '9.83%',\n",
       "       '13.62%', '10.46%', '9.51%', '9.20%', '13.30%', '10.78%', '7.75%',\n",
       "       '8.38%', '12.36%', '12.67%', '11.72%', '13.93%', '8.07%', '7.43%',\n",
       "       '12.04%', '14.25%', '14.88%', '11.41%', '11.09%', '10.14%',\n",
       "       '16.15%', '15.83%', '7.12%', '18.36%', '9.64%', '9.96%', '11.22%',\n",
       "       '9.01%', '9.33%', '11.54%', '12.17%', '12.80%', '14.38%', '13.75%',\n",
       "       '14.70%', '12.49%', '14.07%', '10.91%', '13.12%', '10.28%',\n",
       "       '8.70%', '14.67%', '15.01%'], dtype=object)"
      ]
     },
     "execution_count": 141,
     "metadata": {},
     "output_type": "execute_result"
    }
   ],
   "source": [
    "loan.int_rate.unique()"
   ]
  },
  {
   "cell_type": "markdown",
   "metadata": {},
   "source": [
    "#### These values need to be made numeric."
   ]
  },
  {
   "cell_type": "code",
   "execution_count": 142,
   "metadata": {},
   "outputs": [],
   "source": [
    "loan['revol_util'] = loan['revol_util'].apply(lambda x : float(x.split('%')[0]))"
   ]
  },
  {
   "cell_type": "code",
   "execution_count": 143,
   "metadata": {},
   "outputs": [
    {
     "data": {
      "text/plain": [
       "dtype('float64')"
      ]
     },
     "execution_count": 143,
     "metadata": {},
     "output_type": "execute_result"
    }
   ],
   "source": [
    "loan['revol_util'].dtype"
   ]
  },
  {
   "cell_type": "code",
   "execution_count": 144,
   "metadata": {},
   "outputs": [],
   "source": [
    "loan.emp_length = loan.emp_length.apply(lambda x : int(x.split('+')[0]) if '+' in x else int(0) if '<' in x else int(x.split()[0]))"
   ]
  },
  {
   "cell_type": "code",
   "execution_count": 145,
   "metadata": {},
   "outputs": [
    {
     "data": {
      "text/plain": [
       "dtype('int64')"
      ]
     },
     "execution_count": 145,
     "metadata": {},
     "output_type": "execute_result"
    }
   ],
   "source": [
    "loan.emp_length.dtype"
   ]
  },
  {
   "cell_type": "code",
   "execution_count": 146,
   "metadata": {
    "scrolled": true
   },
   "outputs": [],
   "source": [
    "loan['int_rate'] = loan['int_rate'].apply(lambda x : float(x.split('%')[0]))"
   ]
  },
  {
   "cell_type": "code",
   "execution_count": 147,
   "metadata": {},
   "outputs": [
    {
     "data": {
      "text/plain": [
       "dtype('float64')"
      ]
     },
     "execution_count": 147,
     "metadata": {},
     "output_type": "execute_result"
    }
   ],
   "source": [
    "loan['int_rate'].dtype"
   ]
  },
  {
   "cell_type": "markdown",
   "metadata": {},
   "source": [
    "#### Now checking the data"
   ]
  },
  {
   "cell_type": "code",
   "execution_count": 148,
   "metadata": {},
   "outputs": [
    {
     "data": {
      "text/html": [
       "<div>\n",
       "<style scoped>\n",
       "    .dataframe tbody tr th:only-of-type {\n",
       "        vertical-align: middle;\n",
       "    }\n",
       "\n",
       "    .dataframe tbody tr th {\n",
       "        vertical-align: top;\n",
       "    }\n",
       "\n",
       "    .dataframe thead th {\n",
       "        text-align: right;\n",
       "    }\n",
       "</style>\n",
       "<table border=\"1\" class=\"dataframe\">\n",
       "  <thead>\n",
       "    <tr style=\"text-align: right;\">\n",
       "      <th></th>\n",
       "      <th>loan_amnt</th>\n",
       "      <th>funded_amnt_inv</th>\n",
       "      <th>term</th>\n",
       "      <th>int_rate</th>\n",
       "      <th>installment</th>\n",
       "      <th>grade</th>\n",
       "      <th>sub_grade</th>\n",
       "      <th>emp_length</th>\n",
       "      <th>home_ownership</th>\n",
       "      <th>annual_inc</th>\n",
       "      <th>...</th>\n",
       "      <th>loan_status</th>\n",
       "      <th>purpose</th>\n",
       "      <th>dti</th>\n",
       "      <th>delinq_2yrs</th>\n",
       "      <th>earliest_cr_line</th>\n",
       "      <th>inq_last_6mths</th>\n",
       "      <th>open_acc</th>\n",
       "      <th>pub_rec</th>\n",
       "      <th>revol_util</th>\n",
       "      <th>total_acc</th>\n",
       "    </tr>\n",
       "  </thead>\n",
       "  <tbody>\n",
       "    <tr>\n",
       "      <th>0</th>\n",
       "      <td>5000</td>\n",
       "      <td>4975.0</td>\n",
       "      <td>36 months</td>\n",
       "      <td>10.65</td>\n",
       "      <td>162.87</td>\n",
       "      <td>B</td>\n",
       "      <td>B2</td>\n",
       "      <td>10</td>\n",
       "      <td>RENT</td>\n",
       "      <td>24000.0</td>\n",
       "      <td>...</td>\n",
       "      <td>Fully Paid</td>\n",
       "      <td>credit_card</td>\n",
       "      <td>27.65</td>\n",
       "      <td>0</td>\n",
       "      <td>Jan-85</td>\n",
       "      <td>1</td>\n",
       "      <td>3</td>\n",
       "      <td>0</td>\n",
       "      <td>83.7</td>\n",
       "      <td>9</td>\n",
       "    </tr>\n",
       "    <tr>\n",
       "      <th>1</th>\n",
       "      <td>2500</td>\n",
       "      <td>2500.0</td>\n",
       "      <td>60 months</td>\n",
       "      <td>15.27</td>\n",
       "      <td>59.83</td>\n",
       "      <td>C</td>\n",
       "      <td>C4</td>\n",
       "      <td>0</td>\n",
       "      <td>RENT</td>\n",
       "      <td>30000.0</td>\n",
       "      <td>...</td>\n",
       "      <td>Charged Off</td>\n",
       "      <td>car</td>\n",
       "      <td>1.00</td>\n",
       "      <td>0</td>\n",
       "      <td>Apr-99</td>\n",
       "      <td>5</td>\n",
       "      <td>3</td>\n",
       "      <td>0</td>\n",
       "      <td>9.4</td>\n",
       "      <td>4</td>\n",
       "    </tr>\n",
       "    <tr>\n",
       "      <th>2</th>\n",
       "      <td>2400</td>\n",
       "      <td>2400.0</td>\n",
       "      <td>36 months</td>\n",
       "      <td>15.96</td>\n",
       "      <td>84.33</td>\n",
       "      <td>C</td>\n",
       "      <td>C5</td>\n",
       "      <td>10</td>\n",
       "      <td>RENT</td>\n",
       "      <td>12252.0</td>\n",
       "      <td>...</td>\n",
       "      <td>Fully Paid</td>\n",
       "      <td>small_business</td>\n",
       "      <td>8.72</td>\n",
       "      <td>0</td>\n",
       "      <td>Nov-01</td>\n",
       "      <td>2</td>\n",
       "      <td>2</td>\n",
       "      <td>0</td>\n",
       "      <td>98.5</td>\n",
       "      <td>10</td>\n",
       "    </tr>\n",
       "    <tr>\n",
       "      <th>3</th>\n",
       "      <td>10000</td>\n",
       "      <td>10000.0</td>\n",
       "      <td>36 months</td>\n",
       "      <td>13.49</td>\n",
       "      <td>339.31</td>\n",
       "      <td>C</td>\n",
       "      <td>C1</td>\n",
       "      <td>10</td>\n",
       "      <td>RENT</td>\n",
       "      <td>49200.0</td>\n",
       "      <td>...</td>\n",
       "      <td>Fully Paid</td>\n",
       "      <td>other</td>\n",
       "      <td>20.00</td>\n",
       "      <td>0</td>\n",
       "      <td>Feb-96</td>\n",
       "      <td>1</td>\n",
       "      <td>10</td>\n",
       "      <td>0</td>\n",
       "      <td>21.0</td>\n",
       "      <td>37</td>\n",
       "    </tr>\n",
       "    <tr>\n",
       "      <th>5</th>\n",
       "      <td>5000</td>\n",
       "      <td>5000.0</td>\n",
       "      <td>36 months</td>\n",
       "      <td>7.90</td>\n",
       "      <td>156.46</td>\n",
       "      <td>A</td>\n",
       "      <td>A4</td>\n",
       "      <td>3</td>\n",
       "      <td>RENT</td>\n",
       "      <td>36000.0</td>\n",
       "      <td>...</td>\n",
       "      <td>Fully Paid</td>\n",
       "      <td>wedding</td>\n",
       "      <td>11.20</td>\n",
       "      <td>0</td>\n",
       "      <td>Nov-04</td>\n",
       "      <td>3</td>\n",
       "      <td>9</td>\n",
       "      <td>0</td>\n",
       "      <td>28.3</td>\n",
       "      <td>12</td>\n",
       "    </tr>\n",
       "  </tbody>\n",
       "</table>\n",
       "<p>5 rows × 22 columns</p>\n",
       "</div>"
      ],
      "text/plain": [
       "   loan_amnt  funded_amnt_inv        term  int_rate  installment grade  \\\n",
       "0       5000           4975.0   36 months     10.65       162.87     B   \n",
       "1       2500           2500.0   60 months     15.27        59.83     C   \n",
       "2       2400           2400.0   36 months     15.96        84.33     C   \n",
       "3      10000          10000.0   36 months     13.49       339.31     C   \n",
       "5       5000           5000.0   36 months      7.90       156.46     A   \n",
       "\n",
       "  sub_grade  emp_length home_ownership  annual_inc  ...  loan_status  \\\n",
       "0        B2          10           RENT     24000.0  ...   Fully Paid   \n",
       "1        C4           0           RENT     30000.0  ...  Charged Off   \n",
       "2        C5          10           RENT     12252.0  ...   Fully Paid   \n",
       "3        C1          10           RENT     49200.0  ...   Fully Paid   \n",
       "5        A4           3           RENT     36000.0  ...   Fully Paid   \n",
       "\n",
       "          purpose    dti delinq_2yrs  earliest_cr_line  inq_last_6mths  \\\n",
       "0     credit_card  27.65           0            Jan-85               1   \n",
       "1             car   1.00           0            Apr-99               5   \n",
       "2  small_business   8.72           0            Nov-01               2   \n",
       "3           other  20.00           0            Feb-96               1   \n",
       "5         wedding  11.20           0            Nov-04               3   \n",
       "\n",
       "  open_acc  pub_rec  revol_util  total_acc  \n",
       "0        3        0        83.7          9  \n",
       "1        3        0         9.4          4  \n",
       "2        2        0        98.5         10  \n",
       "3       10        0        21.0         37  \n",
       "5        9        0        28.3         12  \n",
       "\n",
       "[5 rows x 22 columns]"
      ]
     },
     "execution_count": 148,
     "metadata": {},
     "output_type": "execute_result"
    }
   ],
   "source": [
    "loan.head()"
   ]
  },
  {
   "cell_type": "markdown",
   "metadata": {},
   "source": [
    "#### Resetting the index"
   ]
  },
  {
   "cell_type": "code",
   "execution_count": 149,
   "metadata": {},
   "outputs": [],
   "source": [
    "loan.reset_index(inplace = True, drop = True)"
   ]
  },
  {
   "cell_type": "code",
   "execution_count": 150,
   "metadata": {},
   "outputs": [
    {
     "data": {
      "text/html": [
       "<div>\n",
       "<style scoped>\n",
       "    .dataframe tbody tr th:only-of-type {\n",
       "        vertical-align: middle;\n",
       "    }\n",
       "\n",
       "    .dataframe tbody tr th {\n",
       "        vertical-align: top;\n",
       "    }\n",
       "\n",
       "    .dataframe thead th {\n",
       "        text-align: right;\n",
       "    }\n",
       "</style>\n",
       "<table border=\"1\" class=\"dataframe\">\n",
       "  <thead>\n",
       "    <tr style=\"text-align: right;\">\n",
       "      <th></th>\n",
       "      <th>loan_amnt</th>\n",
       "      <th>funded_amnt_inv</th>\n",
       "      <th>term</th>\n",
       "      <th>int_rate</th>\n",
       "      <th>installment</th>\n",
       "      <th>grade</th>\n",
       "      <th>sub_grade</th>\n",
       "      <th>emp_length</th>\n",
       "      <th>home_ownership</th>\n",
       "      <th>annual_inc</th>\n",
       "      <th>...</th>\n",
       "      <th>loan_status</th>\n",
       "      <th>purpose</th>\n",
       "      <th>dti</th>\n",
       "      <th>delinq_2yrs</th>\n",
       "      <th>earliest_cr_line</th>\n",
       "      <th>inq_last_6mths</th>\n",
       "      <th>open_acc</th>\n",
       "      <th>pub_rec</th>\n",
       "      <th>revol_util</th>\n",
       "      <th>total_acc</th>\n",
       "    </tr>\n",
       "  </thead>\n",
       "  <tbody>\n",
       "    <tr>\n",
       "      <th>0</th>\n",
       "      <td>5000</td>\n",
       "      <td>4975.0</td>\n",
       "      <td>36 months</td>\n",
       "      <td>10.65</td>\n",
       "      <td>162.87</td>\n",
       "      <td>B</td>\n",
       "      <td>B2</td>\n",
       "      <td>10</td>\n",
       "      <td>RENT</td>\n",
       "      <td>24000.0</td>\n",
       "      <td>...</td>\n",
       "      <td>Fully Paid</td>\n",
       "      <td>credit_card</td>\n",
       "      <td>27.65</td>\n",
       "      <td>0</td>\n",
       "      <td>Jan-85</td>\n",
       "      <td>1</td>\n",
       "      <td>3</td>\n",
       "      <td>0</td>\n",
       "      <td>83.7</td>\n",
       "      <td>9</td>\n",
       "    </tr>\n",
       "    <tr>\n",
       "      <th>1</th>\n",
       "      <td>2500</td>\n",
       "      <td>2500.0</td>\n",
       "      <td>60 months</td>\n",
       "      <td>15.27</td>\n",
       "      <td>59.83</td>\n",
       "      <td>C</td>\n",
       "      <td>C4</td>\n",
       "      <td>0</td>\n",
       "      <td>RENT</td>\n",
       "      <td>30000.0</td>\n",
       "      <td>...</td>\n",
       "      <td>Charged Off</td>\n",
       "      <td>car</td>\n",
       "      <td>1.00</td>\n",
       "      <td>0</td>\n",
       "      <td>Apr-99</td>\n",
       "      <td>5</td>\n",
       "      <td>3</td>\n",
       "      <td>0</td>\n",
       "      <td>9.4</td>\n",
       "      <td>4</td>\n",
       "    </tr>\n",
       "    <tr>\n",
       "      <th>2</th>\n",
       "      <td>2400</td>\n",
       "      <td>2400.0</td>\n",
       "      <td>36 months</td>\n",
       "      <td>15.96</td>\n",
       "      <td>84.33</td>\n",
       "      <td>C</td>\n",
       "      <td>C5</td>\n",
       "      <td>10</td>\n",
       "      <td>RENT</td>\n",
       "      <td>12252.0</td>\n",
       "      <td>...</td>\n",
       "      <td>Fully Paid</td>\n",
       "      <td>small_business</td>\n",
       "      <td>8.72</td>\n",
       "      <td>0</td>\n",
       "      <td>Nov-01</td>\n",
       "      <td>2</td>\n",
       "      <td>2</td>\n",
       "      <td>0</td>\n",
       "      <td>98.5</td>\n",
       "      <td>10</td>\n",
       "    </tr>\n",
       "    <tr>\n",
       "      <th>3</th>\n",
       "      <td>10000</td>\n",
       "      <td>10000.0</td>\n",
       "      <td>36 months</td>\n",
       "      <td>13.49</td>\n",
       "      <td>339.31</td>\n",
       "      <td>C</td>\n",
       "      <td>C1</td>\n",
       "      <td>10</td>\n",
       "      <td>RENT</td>\n",
       "      <td>49200.0</td>\n",
       "      <td>...</td>\n",
       "      <td>Fully Paid</td>\n",
       "      <td>other</td>\n",
       "      <td>20.00</td>\n",
       "      <td>0</td>\n",
       "      <td>Feb-96</td>\n",
       "      <td>1</td>\n",
       "      <td>10</td>\n",
       "      <td>0</td>\n",
       "      <td>21.0</td>\n",
       "      <td>37</td>\n",
       "    </tr>\n",
       "    <tr>\n",
       "      <th>4</th>\n",
       "      <td>5000</td>\n",
       "      <td>5000.0</td>\n",
       "      <td>36 months</td>\n",
       "      <td>7.90</td>\n",
       "      <td>156.46</td>\n",
       "      <td>A</td>\n",
       "      <td>A4</td>\n",
       "      <td>3</td>\n",
       "      <td>RENT</td>\n",
       "      <td>36000.0</td>\n",
       "      <td>...</td>\n",
       "      <td>Fully Paid</td>\n",
       "      <td>wedding</td>\n",
       "      <td>11.20</td>\n",
       "      <td>0</td>\n",
       "      <td>Nov-04</td>\n",
       "      <td>3</td>\n",
       "      <td>9</td>\n",
       "      <td>0</td>\n",
       "      <td>28.3</td>\n",
       "      <td>12</td>\n",
       "    </tr>\n",
       "  </tbody>\n",
       "</table>\n",
       "<p>5 rows × 22 columns</p>\n",
       "</div>"
      ],
      "text/plain": [
       "   loan_amnt  funded_amnt_inv        term  int_rate  installment grade  \\\n",
       "0       5000           4975.0   36 months     10.65       162.87     B   \n",
       "1       2500           2500.0   60 months     15.27        59.83     C   \n",
       "2       2400           2400.0   36 months     15.96        84.33     C   \n",
       "3      10000          10000.0   36 months     13.49       339.31     C   \n",
       "4       5000           5000.0   36 months      7.90       156.46     A   \n",
       "\n",
       "  sub_grade  emp_length home_ownership  annual_inc  ...  loan_status  \\\n",
       "0        B2          10           RENT     24000.0  ...   Fully Paid   \n",
       "1        C4           0           RENT     30000.0  ...  Charged Off   \n",
       "2        C5          10           RENT     12252.0  ...   Fully Paid   \n",
       "3        C1          10           RENT     49200.0  ...   Fully Paid   \n",
       "4        A4           3           RENT     36000.0  ...   Fully Paid   \n",
       "\n",
       "          purpose    dti delinq_2yrs  earliest_cr_line  inq_last_6mths  \\\n",
       "0     credit_card  27.65           0            Jan-85               1   \n",
       "1             car   1.00           0            Apr-99               5   \n",
       "2  small_business   8.72           0            Nov-01               2   \n",
       "3           other  20.00           0            Feb-96               1   \n",
       "4         wedding  11.20           0            Nov-04               3   \n",
       "\n",
       "  open_acc  pub_rec  revol_util  total_acc  \n",
       "0        3        0        83.7          9  \n",
       "1        3        0         9.4          4  \n",
       "2        2        0        98.5         10  \n",
       "3       10        0        21.0         37  \n",
       "4        9        0        28.3         12  \n",
       "\n",
       "[5 rows x 22 columns]"
      ]
     },
     "execution_count": 150,
     "metadata": {},
     "output_type": "execute_result"
    }
   ],
   "source": [
    "loan.head()"
   ]
  },
  {
   "cell_type": "markdown",
   "metadata": {},
   "source": [
    "#### Checking the data types of all columns"
   ]
  },
  {
   "cell_type": "code",
   "execution_count": 151,
   "metadata": {},
   "outputs": [
    {
     "name": "stdout",
     "output_type": "stream",
     "text": [
      "<class 'pandas.core.frame.DataFrame'>\n",
      "RangeIndex: 38527 entries, 0 to 38526\n",
      "Data columns (total 22 columns):\n",
      " #   Column               Non-Null Count  Dtype  \n",
      "---  ------               --------------  -----  \n",
      " 0   loan_amnt            38527 non-null  int64  \n",
      " 1   funded_amnt_inv      38527 non-null  float64\n",
      " 2   term                 38527 non-null  object \n",
      " 3   int_rate             38527 non-null  float64\n",
      " 4   installment          38527 non-null  float64\n",
      " 5   grade                38527 non-null  object \n",
      " 6   sub_grade            38527 non-null  object \n",
      " 7   emp_length           38527 non-null  int64  \n",
      " 8   home_ownership       38527 non-null  object \n",
      " 9   annual_inc           38527 non-null  float64\n",
      " 10  verification_status  38527 non-null  object \n",
      " 11  issue_d              38527 non-null  object \n",
      " 12  loan_status          38527 non-null  object \n",
      " 13  purpose              38527 non-null  object \n",
      " 14  dti                  38527 non-null  float64\n",
      " 15  delinq_2yrs          38527 non-null  int64  \n",
      " 16  earliest_cr_line     38527 non-null  object \n",
      " 17  inq_last_6mths       38527 non-null  int64  \n",
      " 18  open_acc             38527 non-null  int64  \n",
      " 19  pub_rec              38527 non-null  int64  \n",
      " 20  revol_util           38527 non-null  float64\n",
      " 21  total_acc            38527 non-null  int64  \n",
      "dtypes: float64(6), int64(7), object(9)\n",
      "memory usage: 6.5+ MB\n"
     ]
    }
   ],
   "source": [
    "loan.info()"
   ]
  },
  {
   "cell_type": "markdown",
   "metadata": {},
   "source": [
    "# Outlier Treatment"
   ]
  },
  {
   "cell_type": "code",
   "execution_count": 152,
   "metadata": {},
   "outputs": [],
   "source": [
    "#setting theme for graphs\n",
    "\n",
    "sns.set_style(style=\"darkgrid\")\n",
    "plt.style.use('seaborn-pastel')"
   ]
  },
  {
   "cell_type": "markdown",
   "metadata": {},
   "source": [
    "#### Checking outliers for annual_inc"
   ]
  },
  {
   "cell_type": "code",
   "execution_count": 153,
   "metadata": {},
   "outputs": [
    {
     "data": {
      "image/png": "[encoded data removed]",
      "text/plain": [
       "<Figure size 720x720 with 1 Axes>"
      ]
     },
     "metadata": {},
     "output_type": "display_data"
    }
   ],
   "source": [
    "plt.figure(figsize = [10,10])\n",
    "sns.boxplot(loan.annual_inc)\n",
    "plt.show()"
   ]
  },
  {
   "cell_type": "markdown",
   "metadata": {},
   "source": [
    "#### There are clearly outliers.\n",
    "\n",
    "- To remove outliers, checking quantile info.\n",
    "- The values after 95 percentile seems to be disconected from the general distribution. There is large jump in values from 0.90 to 0.95, large jump for small quantile change.\n",
    "- Therefore, considering threshold for removing outliers as 0.95"
   ]
  },
  {
   "cell_type": "code",
   "execution_count": 154,
   "metadata": {},
   "outputs": [
    {
     "data": {
      "text/plain": [
       "0.25     40000.0\n",
       "0.50     59000.0\n",
       "0.75     82000.0\n",
       "0.90    115000.0\n",
       "0.95    140004.0\n",
       "0.97    165000.0\n",
       "0.99    234000.0\n",
       "Name: annual_inc, dtype: float64"
      ]
     },
     "execution_count": 154,
     "metadata": {},
     "output_type": "execute_result"
    }
   ],
   "source": [
    "loan.annual_inc.quantile([0.25, 0.5, 0.75, 0.90, 0.95, 0.97, 0.99])"
   ]
  },
  {
   "cell_type": "code",
   "execution_count": 155,
   "metadata": {},
   "outputs": [],
   "source": [
    "loan = loan[loan.annual_inc <= loan.annual_inc.quantile(0.95)]"
   ]
  },
  {
   "cell_type": "code",
   "execution_count": 156,
   "metadata": {},
   "outputs": [
    {
     "data": {
      "text/plain": [
       "(36606, 22)"
      ]
     },
     "execution_count": 156,
     "metadata": {},
     "output_type": "execute_result"
    }
   ],
   "source": [
    "loan.shape"
   ]
  },
  {
   "cell_type": "code",
   "execution_count": 157,
   "metadata": {},
   "outputs": [
    {
     "data": {
      "image/png": "[encoded data removed]",
      "text/plain": [
       "<Figure size 432x288 with 1 Axes>"
      ]
     },
     "metadata": {},
     "output_type": "display_data"
    }
   ],
   "source": [
    "sns.boxplot(loan.annual_inc)\n",
    "plt.show()"
   ]
  },
  {
   "cell_type": "code",
   "execution_count": 158,
   "metadata": {},
   "outputs": [
    {
     "name": "stdout",
     "output_type": "stream",
     "text": [
      "<class 'pandas.core.frame.DataFrame'>\n",
      "Int64Index: 36606 entries, 0 to 38526\n",
      "Data columns (total 22 columns):\n",
      " #   Column               Non-Null Count  Dtype  \n",
      "---  ------               --------------  -----  \n",
      " 0   loan_amnt            36606 non-null  int64  \n",
      " 1   funded_amnt_inv      36606 non-null  float64\n",
      " 2   term                 36606 non-null  object \n",
      " 3   int_rate             36606 non-null  float64\n",
      " 4   installment          36606 non-null  float64\n",
      " 5   grade                36606 non-null  object \n",
      " 6   sub_grade            36606 non-null  object \n",
      " 7   emp_length           36606 non-null  int64  \n",
      " 8   home_ownership       36606 non-null  object \n",
      " 9   annual_inc           36606 non-null  float64\n",
      " 10  verification_status  36606 non-null  object \n",
      " 11  issue_d              36606 non-null  object \n",
      " 12  loan_status          36606 non-null  object \n",
      " 13  purpose              36606 non-null  object \n",
      " 14  dti                  36606 non-null  float64\n",
      " 15  delinq_2yrs          36606 non-null  int64  \n",
      " 16  earliest_cr_line     36606 non-null  object \n",
      " 17  inq_last_6mths       36606 non-null  int64  \n",
      " 18  open_acc             36606 non-null  int64  \n",
      " 19  pub_rec              36606 non-null  int64  \n",
      " 20  revol_util           36606 non-null  float64\n",
      " 21  total_acc            36606 non-null  int64  \n",
      "dtypes: float64(6), int64(7), object(9)\n",
      "memory usage: 6.4+ MB\n"
     ]
    }
   ],
   "source": [
    "loan.info()"
   ]
  },
  {
   "cell_type": "markdown",
   "metadata": {},
   "source": [
    "#### Checking outliers for dti column"
   ]
  },
  {
   "cell_type": "code",
   "execution_count": 159,
   "metadata": {},
   "outputs": [
    {
     "data": {
      "image/png": "[encoded data removed]",
      "text/plain": [
       "<Figure size 432x288 with 1 Axes>"
      ]
     },
     "metadata": {},
     "output_type": "display_data"
    }
   ],
   "source": [
    "sns.boxplot(loan.dti)\n",
    "plt.show()"
   ]
  },
  {
   "cell_type": "markdown",
   "metadata": {},
   "source": [
    "#### Checking outliers for loan_amnt column"
   ]
  },
  {
   "cell_type": "code",
   "execution_count": 160,
   "metadata": {},
   "outputs": [
    {
     "data": {
      "image/png": "[encoded data removed]",
      "text/plain": [
       "<Figure size 432x288 with 1 Axes>"
      ]
     },
     "metadata": {},
     "output_type": "display_data"
    }
   ],
   "source": [
    "sns.boxplot(loan.loan_amnt)\n",
    "plt.show()"
   ]
  },
  {
   "cell_type": "markdown",
   "metadata": {},
   "source": [
    " This has some outliers. Removing them."
   ]
  },
  {
   "cell_type": "code",
   "execution_count": 161,
   "metadata": {},
   "outputs": [
    {
     "data": {
      "text/plain": [
       "0.750    15000.0\n",
       "0.900    20000.0\n",
       "0.950    25000.0\n",
       "0.970    25475.0\n",
       "0.975    28000.0\n",
       "0.980    30000.0\n",
       "0.990    35000.0\n",
       "1.000    35000.0\n",
       "Name: loan_amnt, dtype: float64"
      ]
     },
     "execution_count": 161,
     "metadata": {},
     "output_type": "execute_result"
    }
   ],
   "source": [
    "loan.loan_amnt.quantile([0.75,0.90,0.95,0.97,0.975, 0.98, 0.99, 1.0])"
   ]
  },
  {
   "cell_type": "markdown",
   "metadata": {},
   "source": [
    "#### Checking outliers for funded_amnt_inv column"
   ]
  },
  {
   "cell_type": "code",
   "execution_count": 162,
   "metadata": {},
   "outputs": [
    {
     "data": {
      "image/png": "[encoded data removed]",
      "text/plain": [
       "<Figure size 432x288 with 1 Axes>"
      ]
     },
     "metadata": {},
     "output_type": "display_data"
    }
   ],
   "source": [
    "sns.boxplot(loan.funded_amnt_inv)\n",
    "plt.show()"
   ]
  },
  {
   "cell_type": "code",
   "execution_count": 163,
   "metadata": {},
   "outputs": [
    {
     "data": {
      "text/plain": [
       "0.500     8396.342174\n",
       "0.750    13649.999283\n",
       "0.900    19750.000000\n",
       "0.950    23949.287805\n",
       "0.970    24975.000000\n",
       "0.975    25350.000000\n",
       "0.980    27953.287538\n",
       "0.985    29925.000000\n",
       "0.990    31966.803281\n",
       "1.000    35000.000000\n",
       "Name: funded_amnt_inv, dtype: float64"
      ]
     },
     "execution_count": 163,
     "metadata": {},
     "output_type": "execute_result"
    }
   ],
   "source": [
    "loan.funded_amnt_inv.quantile([0.5,0.75,0.90,0.95,0.97,0.975, 0.98,0.985, 0.99, 1.0])"
   ]
  },
  {
   "cell_type": "markdown",
   "metadata": {},
   "source": [
    "#### There are some outliers, but as the distribution is continuous, we are not dropping these columns."
   ]
  },
  {
   "cell_type": "markdown",
   "metadata": {},
   "source": [
    "# Visualizing Categorical Data"
   ]
  },
  {
   "cell_type": "markdown",
   "metadata": {},
   "source": [
    "### loan_status column"
   ]
  },
  {
   "cell_type": "code",
   "execution_count": 164,
   "metadata": {
    "scrolled": true
   },
   "outputs": [
    {
     "data": {
      "image/png": "[encoded data removed]",
      "text/plain": [
       "<Figure size 432x288 with 1 Axes>"
      ]
     },
     "metadata": {},
     "output_type": "display_data"
    }
   ],
   "source": [
    "sns.countplot(x = 'loan_status', data = loan)\n",
    "plt.show()"
   ]
  },
  {
   "cell_type": "markdown",
   "metadata": {},
   "source": [
    "### grade & sub_grade columns\n",
    "\n",
    "We have Grade & Sub_Grade variables. Converting sub_grade to integer."
   ]
  },
  {
   "cell_type": "code",
   "execution_count": 165,
   "metadata": {},
   "outputs": [
    {
     "data": {
      "text/plain": [
       "array(['B', 'C', 'A', 'E', 'F', 'D', 'G'], dtype=object)"
      ]
     },
     "execution_count": 165,
     "metadata": {},
     "output_type": "execute_result"
    }
   ],
   "source": [
    "loan.grade.unique()"
   ]
  },
  {
   "cell_type": "code",
   "execution_count": 166,
   "metadata": {},
   "outputs": [
    {
     "data": {
      "text/plain": [
       "array(['B2', 'C4', 'C5', 'C1', 'A4', 'E1', 'F2', 'B5', 'C3', 'B1', 'D1',\n",
       "       'A1', 'B3', 'B4', 'C2', 'D2', 'A3', 'A5', 'D5', 'A2', 'E4', 'D3',\n",
       "       'D4', 'F3', 'E3', 'F1', 'E5', 'G4', 'E2', 'G2', 'G1', 'F5', 'F4',\n",
       "       'G5', 'G3'], dtype=object)"
      ]
     },
     "execution_count": 166,
     "metadata": {},
     "output_type": "execute_result"
    }
   ],
   "source": [
    "loan.sub_grade.unique()"
   ]
  },
  {
   "cell_type": "code",
   "execution_count": 167,
   "metadata": {},
   "outputs": [],
   "source": [
    "loan.sub_grade = loan.sub_grade.apply(lambda x : x[-1])"
   ]
  },
  {
   "cell_type": "code",
   "execution_count": 168,
   "metadata": {},
   "outputs": [
    {
     "data": {
      "text/plain": [
       "0        2\n",
       "1        4\n",
       "2        5\n",
       "3        1\n",
       "4        4\n",
       "        ..\n",
       "38521    1\n",
       "38522    4\n",
       "38523    1\n",
       "38524    4\n",
       "38526    2\n",
       "Name: sub_grade, Length: 36606, dtype: object"
      ]
     },
     "execution_count": 168,
     "metadata": {},
     "output_type": "execute_result"
    }
   ],
   "source": [
    "loan.sub_grade"
   ]
  },
  {
   "cell_type": "markdown",
   "metadata": {},
   "source": [
    "We are only analyzing defaulter data, so we will take the subset of data with loan_status = 'Charged Off'."
   ]
  },
  {
   "cell_type": "markdown",
   "metadata": {},
   "source": [
    "#### Visualizing Grade & Subgrade Columns"
   ]
  },
  {
   "cell_type": "code",
   "execution_count": 169,
   "metadata": {
    "scrolled": true
   },
   "outputs": [
    {
     "data": {
      "image/png": "[encoded data removed]",
      "text/plain": [
       "<Figure size 720x720 with 1 Axes>"
      ]
     },
     "metadata": {},
     "output_type": "display_data"
    }
   ],
   "source": [
    "plt.figure(figsize = [10,10])\n",
    "sns.countplot(data = loan[loan.loan_status == 'Charged Off'] , x = 'grade', order = ['A', 'B', 'C', 'D', 'E', 'F', 'G'] , hue = 'sub_grade')\n",
    "plt.show()"
   ]
  },
  {
   "cell_type": "code",
   "execution_count": 170,
   "metadata": {
    "scrolled": true
   },
   "outputs": [
    {
     "data": {
      "image/png": "[encoded data removed]",
      "text/plain": [
       "<Figure size 504x504 with 1 Axes>"
      ]
     },
     "metadata": {},
     "output_type": "display_data"
    }
   ],
   "source": [
    "plt.figure(figsize = [7,7])\n",
    "sns.countplot(x = 'grade', data = loan[loan.loan_status == 'Charged Off'], order = ['A', 'B', 'C', 'D', 'E', 'F', 'G'])\n",
    "plt.show()"
   ]
  },
  {
   "cell_type": "markdown",
   "metadata": {},
   "source": [
    "### home_ownership column"
   ]
  },
  {
   "cell_type": "code",
   "execution_count": 171,
   "metadata": {},
   "outputs": [
    {
     "data": {
      "text/plain": [
       "array(['RENT', 'OWN', 'MORTGAGE', 'OTHER', 'NONE'], dtype=object)"
      ]
     },
     "execution_count": 171,
     "metadata": {},
     "output_type": "execute_result"
    }
   ],
   "source": [
    "loan.home_ownership.unique()"
   ]
  },
  {
   "cell_type": "code",
   "execution_count": 172,
   "metadata": {},
   "outputs": [
    {
     "data": {
      "text/plain": [
       "RENT        18000\n",
       "MORTGAGE    15665\n",
       "OWN          2847\n",
       "OTHER          91\n",
       "NONE            3\n",
       "Name: home_ownership, dtype: int64"
      ]
     },
     "execution_count": 172,
     "metadata": {},
     "output_type": "execute_result"
    }
   ],
   "source": [
    "loan.home_ownership.value_counts()"
   ]
  },
  {
   "cell_type": "markdown",
   "metadata": {},
   "source": [
    "Replace 'NONE' with 'OTHER' as there are few 'NONE' values."
   ]
  },
  {
   "cell_type": "code",
   "execution_count": 173,
   "metadata": {},
   "outputs": [],
   "source": [
    "loan.home_ownership.replace(to_replace = 'NONE', value = 'OTHER', inplace = True)"
   ]
  },
  {
   "cell_type": "code",
   "execution_count": 174,
   "metadata": {},
   "outputs": [
    {
     "data": {
      "text/plain": [
       "array(['RENT', 'OWN', 'MORTGAGE', 'OTHER'], dtype=object)"
      ]
     },
     "execution_count": 174,
     "metadata": {},
     "output_type": "execute_result"
    }
   ],
   "source": [
    "loan.home_ownership.unique()"
   ]
  },
  {
   "cell_type": "markdown",
   "metadata": {},
   "source": [
    "#### Visualizing home_ownership column"
   ]
  },
  {
   "cell_type": "code",
   "execution_count": 175,
   "metadata": {
    "scrolled": true
   },
   "outputs": [
    {
     "data": {
      "image/png": "[encoded data removed]",
      "text/plain": [
       "<Figure size 720x720 with 1 Axes>"
      ]
     },
     "metadata": {},
     "output_type": "display_data"
    }
   ],
   "source": [
    "plt.figure(figsize = [10,10])\n",
    "sns.countplot(x = 'home_ownership', data = loan[loan.loan_status == 'Charged Off'], order = ['RENT', 'OWN', 'MORTGAGE', 'OTHER'])\n",
    "plt.show()"
   ]
  },
  {
   "cell_type": "markdown",
   "metadata": {},
   "source": [
    "### purpose column"
   ]
  },
  {
   "cell_type": "code",
   "execution_count": 176,
   "metadata": {},
   "outputs": [
    {
     "data": {
      "text/plain": [
       "array(['credit_card', 'car', 'small_business', 'other', 'wedding',\n",
       "       'debt_consolidation', 'home_improvement', 'major_purchase',\n",
       "       'medical', 'moving', 'vacation', 'house', 'renewable_energy',\n",
       "       'educational'], dtype=object)"
      ]
     },
     "execution_count": 176,
     "metadata": {},
     "output_type": "execute_result"
    }
   ],
   "source": [
    "loan.purpose.unique()"
   ]
  },
  {
   "cell_type": "markdown",
   "metadata": {},
   "source": [
    "#### Visualizing purpose column"
   ]
  },
  {
   "cell_type": "code",
   "execution_count": 177,
   "metadata": {
    "scrolled": false
   },
   "outputs": [
    {
     "data": {
      "image/png": "[encoded data removed]",
      "text/plain": [
       "<Figure size 1080x720 with 1 Axes>"
      ]
     },
     "metadata": {},
     "output_type": "display_data"
    }
   ],
   "source": [
    "plt.figure(figsize = [15,10])\n",
    "plt.xticks(rotation = 90, fontsize = 15)\n",
    "plt.yticks(fontsize = 15)\n",
    "plt.xlabel(xlabel= 'purpose', fontsize = 15)\n",
    "plt.ylabel(ylabel= 'count', fontsize = 15)\n",
    "sns.countplot(x = 'purpose', data = loan[loan.loan_status == 'Charged Off'])\n",
    "plt.show()"
   ]
  },
  {
   "cell_type": "markdown",
   "metadata": {},
   "source": [
    "### Employment Length column"
   ]
  },
  {
   "cell_type": "code",
   "execution_count": 178,
   "metadata": {},
   "outputs": [
    {
     "data": {
      "image/png": "[encoded data removed]",
      "text/plain": [
       "<Figure size 432x288 with 1 Axes>"
      ]
     },
     "metadata": {},
     "output_type": "display_data"
    }
   ],
   "source": [
    "sns.countplot(x = 'emp_length', data = loan[loan.loan_status == 'Charged Off'])\n",
    "plt.show()"
   ]
  },
  {
   "cell_type": "markdown",
   "metadata": {},
   "source": [
    "### Creating bins for some numerical values to be considered as categorical"
   ]
  },
  {
   "cell_type": "code",
   "execution_count": 179,
   "metadata": {},
   "outputs": [
    {
     "data": {
      "text/plain": [
       "count    36606.000000\n",
       "mean        11.883216\n",
       "std          3.666065\n",
       "min          5.420000\n",
       "25%          8.940000\n",
       "50%         11.710000\n",
       "75%         14.270000\n",
       "max         24.400000\n",
       "Name: int_rate, dtype: float64"
      ]
     },
     "execution_count": 179,
     "metadata": {},
     "output_type": "execute_result"
    }
   ],
   "source": [
    "loan.int_rate.describe()"
   ]
  },
  {
   "cell_type": "code",
   "execution_count": 180,
   "metadata": {},
   "outputs": [
    {
     "data": {
      "text/plain": [
       "count    36606.000000\n",
       "mean         9.173086\n",
       "std          4.351894\n",
       "min          2.000000\n",
       "25%          6.000000\n",
       "50%          8.000000\n",
       "75%         12.000000\n",
       "max         44.000000\n",
       "Name: open_acc, dtype: float64"
      ]
     },
     "execution_count": 180,
     "metadata": {},
     "output_type": "execute_result"
    }
   ],
   "source": [
    "loan.open_acc.describe()"
   ]
  },
  {
   "cell_type": "code",
   "execution_count": 181,
   "metadata": {},
   "outputs": [
    {
     "data": {
      "text/plain": [
       "count    36606.000000\n",
       "mean        48.659741\n",
       "std         28.282836\n",
       "min          0.000000\n",
       "25%         25.300000\n",
       "50%         49.000000\n",
       "75%         72.100000\n",
       "max         99.900000\n",
       "Name: revol_util, dtype: float64"
      ]
     },
     "execution_count": 181,
     "metadata": {},
     "output_type": "execute_result"
    }
   ],
   "source": [
    "loan.revol_util.describe()"
   ]
  },
  {
   "cell_type": "code",
   "execution_count": 182,
   "metadata": {},
   "outputs": [
    {
     "data": {
      "text/plain": [
       "count    36606.000000\n",
       "mean        21.655630\n",
       "std         11.229937\n",
       "min          2.000000\n",
       "25%         13.000000\n",
       "50%         20.000000\n",
       "75%         28.000000\n",
       "max         90.000000\n",
       "Name: total_acc, dtype: float64"
      ]
     },
     "execution_count": 182,
     "metadata": {},
     "output_type": "execute_result"
    }
   ],
   "source": [
    "loan.total_acc.describe()"
   ]
  },
  {
   "cell_type": "code",
   "execution_count": 183,
   "metadata": {},
   "outputs": [
    {
     "data": {
      "text/plain": [
       "count     36606.000000\n",
       "mean      60890.563839\n",
       "std       27741.337421\n",
       "min        4000.000000\n",
       "25%       40000.000000\n",
       "50%       56000.000000\n",
       "75%       78000.000000\n",
       "max      140004.000000\n",
       "Name: annual_inc, dtype: float64"
      ]
     },
     "execution_count": 183,
     "metadata": {},
     "output_type": "execute_result"
    }
   ],
   "source": [
    "loan.annual_inc.describe()"
   ]
  },
  {
   "cell_type": "code",
   "execution_count": 184,
   "metadata": {},
   "outputs": [],
   "source": [
    "#creating bins for int_rate, revol_util, total_acc, annual_inc\n",
    "\n",
    "loan['int_rate_group'] = pd.cut(loan.int_rate, bins = 5, labels = ['5% - 9%', '9% - 13%', '13% - 17%', '17% - 21%', '21% - 24%'] )\n",
    "loan['open_acc_group'] = pd.cut(loan.open_acc, bins = 5, labels = ['2-10','10-19', '19-27','27 - 36', '36-44'] )\n",
    "loan['revol_util_group'] = pd.cut(loan.revol_util, bins = 5, labels = [ '0-20', '20-40', '40-60', '60-80' , '80-100'])\n",
    "loan['total_acc_group'] = pd.cut(loan.total_acc , bins = 5, labels = ['2-20','20 - 37','37-55','55-74','74-90'])\n",
    "loan['annual_inc_group'] = pd.cut(loan.annual_inc , bins = 5, labels =['3k-31k','31k-58k','58k-85k','85k-112k','112k-140k'] )"
   ]
  },
  {
   "cell_type": "code",
   "execution_count": 185,
   "metadata": {},
   "outputs": [
    {
     "data": {
      "text/html": [
       "<div>\n",
       "<style scoped>\n",
       "    .dataframe tbody tr th:only-of-type {\n",
       "        vertical-align: middle;\n",
       "    }\n",
       "\n",
       "    .dataframe tbody tr th {\n",
       "        vertical-align: top;\n",
       "    }\n",
       "\n",
       "    .dataframe thead th {\n",
       "        text-align: right;\n",
       "    }\n",
       "</style>\n",
       "<table border=\"1\" class=\"dataframe\">\n",
       "  <thead>\n",
       "    <tr style=\"text-align: right;\">\n",
       "      <th></th>\n",
       "      <th>loan_amnt</th>\n",
       "      <th>funded_amnt_inv</th>\n",
       "      <th>term</th>\n",
       "      <th>int_rate</th>\n",
       "      <th>installment</th>\n",
       "      <th>grade</th>\n",
       "      <th>sub_grade</th>\n",
       "      <th>emp_length</th>\n",
       "      <th>home_ownership</th>\n",
       "      <th>annual_inc</th>\n",
       "      <th>...</th>\n",
       "      <th>inq_last_6mths</th>\n",
       "      <th>open_acc</th>\n",
       "      <th>pub_rec</th>\n",
       "      <th>revol_util</th>\n",
       "      <th>total_acc</th>\n",
       "      <th>int_rate_group</th>\n",
       "      <th>open_acc_group</th>\n",
       "      <th>revol_util_group</th>\n",
       "      <th>total_acc_group</th>\n",
       "      <th>annual_inc_group</th>\n",
       "    </tr>\n",
       "  </thead>\n",
       "  <tbody>\n",
       "    <tr>\n",
       "      <th>0</th>\n",
       "      <td>5000</td>\n",
       "      <td>4975.0</td>\n",
       "      <td>36 months</td>\n",
       "      <td>10.65</td>\n",
       "      <td>162.87</td>\n",
       "      <td>B</td>\n",
       "      <td>2</td>\n",
       "      <td>10</td>\n",
       "      <td>RENT</td>\n",
       "      <td>24000.0</td>\n",
       "      <td>...</td>\n",
       "      <td>1</td>\n",
       "      <td>3</td>\n",
       "      <td>0</td>\n",
       "      <td>83.7</td>\n",
       "      <td>9</td>\n",
       "      <td>9% - 13%</td>\n",
       "      <td>2-10</td>\n",
       "      <td>80-100</td>\n",
       "      <td>2-20</td>\n",
       "      <td>3k-31k</td>\n",
       "    </tr>\n",
       "    <tr>\n",
       "      <th>1</th>\n",
       "      <td>2500</td>\n",
       "      <td>2500.0</td>\n",
       "      <td>60 months</td>\n",
       "      <td>15.27</td>\n",
       "      <td>59.83</td>\n",
       "      <td>C</td>\n",
       "      <td>4</td>\n",
       "      <td>0</td>\n",
       "      <td>RENT</td>\n",
       "      <td>30000.0</td>\n",
       "      <td>...</td>\n",
       "      <td>5</td>\n",
       "      <td>3</td>\n",
       "      <td>0</td>\n",
       "      <td>9.4</td>\n",
       "      <td>4</td>\n",
       "      <td>13% - 17%</td>\n",
       "      <td>2-10</td>\n",
       "      <td>0-20</td>\n",
       "      <td>2-20</td>\n",
       "      <td>3k-31k</td>\n",
       "    </tr>\n",
       "    <tr>\n",
       "      <th>2</th>\n",
       "      <td>2400</td>\n",
       "      <td>2400.0</td>\n",
       "      <td>36 months</td>\n",
       "      <td>15.96</td>\n",
       "      <td>84.33</td>\n",
       "      <td>C</td>\n",
       "      <td>5</td>\n",
       "      <td>10</td>\n",
       "      <td>RENT</td>\n",
       "      <td>12252.0</td>\n",
       "      <td>...</td>\n",
       "      <td>2</td>\n",
       "      <td>2</td>\n",
       "      <td>0</td>\n",
       "      <td>98.5</td>\n",
       "      <td>10</td>\n",
       "      <td>13% - 17%</td>\n",
       "      <td>2-10</td>\n",
       "      <td>80-100</td>\n",
       "      <td>2-20</td>\n",
       "      <td>3k-31k</td>\n",
       "    </tr>\n",
       "    <tr>\n",
       "      <th>3</th>\n",
       "      <td>10000</td>\n",
       "      <td>10000.0</td>\n",
       "      <td>36 months</td>\n",
       "      <td>13.49</td>\n",
       "      <td>339.31</td>\n",
       "      <td>C</td>\n",
       "      <td>1</td>\n",
       "      <td>10</td>\n",
       "      <td>RENT</td>\n",
       "      <td>49200.0</td>\n",
       "      <td>...</td>\n",
       "      <td>1</td>\n",
       "      <td>10</td>\n",
       "      <td>0</td>\n",
       "      <td>21.0</td>\n",
       "      <td>37</td>\n",
       "      <td>13% - 17%</td>\n",
       "      <td>2-10</td>\n",
       "      <td>20-40</td>\n",
       "      <td>20 - 37</td>\n",
       "      <td>31k-58k</td>\n",
       "    </tr>\n",
       "    <tr>\n",
       "      <th>4</th>\n",
       "      <td>5000</td>\n",
       "      <td>5000.0</td>\n",
       "      <td>36 months</td>\n",
       "      <td>7.90</td>\n",
       "      <td>156.46</td>\n",
       "      <td>A</td>\n",
       "      <td>4</td>\n",
       "      <td>3</td>\n",
       "      <td>RENT</td>\n",
       "      <td>36000.0</td>\n",
       "      <td>...</td>\n",
       "      <td>3</td>\n",
       "      <td>9</td>\n",
       "      <td>0</td>\n",
       "      <td>28.3</td>\n",
       "      <td>12</td>\n",
       "      <td>5% - 9%</td>\n",
       "      <td>2-10</td>\n",
       "      <td>20-40</td>\n",
       "      <td>2-20</td>\n",
       "      <td>31k-58k</td>\n",
       "    </tr>\n",
       "  </tbody>\n",
       "</table>\n",
       "<p>5 rows × 27 columns</p>\n",
       "</div>"
      ],
      "text/plain": [
       "   loan_amnt  funded_amnt_inv        term  int_rate  installment grade  \\\n",
       "0       5000           4975.0   36 months     10.65       162.87     B   \n",
       "1       2500           2500.0   60 months     15.27        59.83     C   \n",
       "2       2400           2400.0   36 months     15.96        84.33     C   \n",
       "3      10000          10000.0   36 months     13.49       339.31     C   \n",
       "4       5000           5000.0   36 months      7.90       156.46     A   \n",
       "\n",
       "  sub_grade  emp_length home_ownership  annual_inc  ... inq_last_6mths  \\\n",
       "0         2          10           RENT     24000.0  ...              1   \n",
       "1         4           0           RENT     30000.0  ...              5   \n",
       "2         5          10           RENT     12252.0  ...              2   \n",
       "3         1          10           RENT     49200.0  ...              1   \n",
       "4         4           3           RENT     36000.0  ...              3   \n",
       "\n",
       "  open_acc pub_rec revol_util  total_acc  int_rate_group open_acc_group  \\\n",
       "0        3       0       83.7          9        9% - 13%           2-10   \n",
       "1        3       0        9.4          4       13% - 17%           2-10   \n",
       "2        2       0       98.5         10       13% - 17%           2-10   \n",
       "3       10       0       21.0         37       13% - 17%           2-10   \n",
       "4        9       0       28.3         12         5% - 9%           2-10   \n",
       "\n",
       "   revol_util_group  total_acc_group  annual_inc_group  \n",
       "0            80-100             2-20            3k-31k  \n",
       "1              0-20             2-20            3k-31k  \n",
       "2            80-100             2-20            3k-31k  \n",
       "3             20-40          20 - 37           31k-58k  \n",
       "4             20-40             2-20           31k-58k  \n",
       "\n",
       "[5 rows x 27 columns]"
      ]
     },
     "execution_count": 185,
     "metadata": {},
     "output_type": "execute_result"
    }
   ],
   "source": [
    "#seeing new bin columns\n",
    "\n",
    "loan.head()"
   ]
  },
  {
   "cell_type": "markdown",
   "metadata": {},
   "source": [
    "### Visualizing columns with the new bins created"
   ]
  },
  {
   "cell_type": "markdown",
   "metadata": {},
   "source": [
    "#### Visualizing interest rate"
   ]
  },
  {
   "cell_type": "code",
   "execution_count": 186,
   "metadata": {},
   "outputs": [
    {
     "data": {
      "image/png": "[encoded data removed]",
      "text/plain": [
       "<Figure size 432x288 with 2 Axes>"
      ]
     },
     "metadata": {},
     "output_type": "display_data"
    }
   ],
   "source": [
    "plt.subplot(221)\n",
    "sns.countplot(x='int_rate_group', data=loan[loan.loan_status == 'Charged Off'])\n",
    "plt.xlabel('Interest Rate')\n",
    "plt.xticks(rotation = 90)\n",
    "plt.subplot(222)\n",
    "sns.boxplot(loan.int_rate)\n",
    "plt.show()"
   ]
  },
  {
   "cell_type": "markdown",
   "metadata": {},
   "source": [
    "#### Visualizing open acc"
   ]
  },
  {
   "cell_type": "code",
   "execution_count": 187,
   "metadata": {},
   "outputs": [
    {
     "data": {
      "image/png": "[encoded data removed]",
      "text/plain": [
       "<Figure size 504x504 with 1 Axes>"
      ]
     },
     "metadata": {},
     "output_type": "display_data"
    }
   ],
   "source": [
    "fig, ax = plt.subplots(figsize = [7,7])\n",
    "#setting y scale as log for more readable graph\n",
    "ax.set_yscale('log')\n",
    "sns.countplot(x = 'open_acc_group', data = loan[loan.loan_status == 'Charged Off'])\n",
    "plt.show()"
   ]
  },
  {
   "cell_type": "markdown",
   "metadata": {},
   "source": [
    "#### Visualizing Revolving line utilization rate"
   ]
  },
  {
   "cell_type": "code",
   "execution_count": 188,
   "metadata": {},
   "outputs": [
    {
     "data": {
      "image/png": "[encoded data removed]",
      "text/plain": [
       "<Figure size 432x288 with 1 Axes>"
      ]
     },
     "metadata": {},
     "output_type": "display_data"
    }
   ],
   "source": [
    "sns.countplot(x = 'revol_util_group', data = loan[loan.loan_status == 'Charged Off'])\n",
    "plt.show()"
   ]
  },
  {
   "cell_type": "markdown",
   "metadata": {},
   "source": [
    "#### Visualizing total number of credit lines"
   ]
  },
  {
   "cell_type": "code",
   "execution_count": 189,
   "metadata": {},
   "outputs": [
    {
     "data": {
      "image/png": "[encoded data removed]",
      "text/plain": [
       "<Figure size 504x504 with 1 Axes>"
      ]
     },
     "metadata": {},
     "output_type": "display_data"
    }
   ],
   "source": [
    "fig, ax = plt.subplots(figsize = [7,7])\n",
    "sns.countplot(x = 'total_acc_group', data = loan[loan.loan_status == 'Charged Off'])\n",
    "#setting y scale as log for more readable graph\n",
    "ax.set_yscale('log')\n",
    "plt.show()"
   ]
  },
  {
   "cell_type": "markdown",
   "metadata": {},
   "source": [
    "#### Visualizing annual income"
   ]
  },
  {
   "cell_type": "code",
   "execution_count": 190,
   "metadata": {},
   "outputs": [
    {
     "data": {
      "image/png": "[encoded data removed]",
      "text/plain": [
       "<Figure size 432x288 with 2 Axes>"
      ]
     },
     "metadata": {},
     "output_type": "display_data"
    }
   ],
   "source": [
    "plt.subplot(221)\n",
    "sns.countplot(x = 'annual_inc_group', data = loan[loan.loan_status == 'Charged Off'])\n",
    "plt.xticks(rotation = 90)\n",
    "plt.subplot(222)\n",
    "sns.boxplot(loan.annual_inc)\n",
    "plt.show()"
   ]
  },
  {
   "cell_type": "markdown",
   "metadata": {},
   "source": [
    "## Visualizing term"
   ]
  },
  {
   "cell_type": "code",
   "execution_count": 191,
   "metadata": {},
   "outputs": [
    {
     "data": {
      "image/png": "[encoded data removed]",
      "text/plain": [
       "<Figure size 432x288 with 1 Axes>"
      ]
     },
     "metadata": {},
     "output_type": "display_data"
    }
   ],
   "source": [
    "sns.countplot(y = 'term', data = loan[loan.loan_status == 'Charged Off'])\n",
    "plt.show()"
   ]
  },
  {
   "cell_type": "markdown",
   "metadata": {},
   "source": [
    "## Visualizing verification status"
   ]
  },
  {
   "cell_type": "code",
   "execution_count": 192,
   "metadata": {},
   "outputs": [
    {
     "data": {
      "image/png": "[encoded data removed]",
      "text/plain": [
       "<Figure size 432x288 with 1 Axes>"
      ]
     },
     "metadata": {},
     "output_type": "display_data"
    }
   ],
   "source": [
    "sns.countplot(x = 'verification_status', data = loan[loan.loan_status == 'Charged Off'])\n",
    "plt.show()"
   ]
  },
  {
   "cell_type": "markdown",
   "metadata": {},
   "source": [
    "## Visualizing inquiries in past 6 months"
   ]
  },
  {
   "cell_type": "code",
   "execution_count": 193,
   "metadata": {},
   "outputs": [
    {
     "data": {
      "image/png": "[encoded data removed]",
      "text/plain": [
       "<Figure size 504x504 with 1 Axes>"
      ]
     },
     "metadata": {},
     "output_type": "display_data"
    }
   ],
   "source": [
    "fig, ax = plt.subplots(figsize = [7,7])\n",
    "#setting y scale as log for more readable graph\n",
    "ax.set_yscale('log')\n",
    "sns.countplot(x = 'inq_last_6mths', data = loan[loan.loan_status == 'Charged Off'])\n",
    "plt.show()"
   ]
  },
  {
   "cell_type": "markdown",
   "metadata": {},
   "source": [
    "## Visualizing Number of derogatory public records"
   ]
  },
  {
   "cell_type": "code",
   "execution_count": 194,
   "metadata": {},
   "outputs": [
    {
     "data": {
      "image/png": "[encoded data removed]",
      "text/plain": [
       "<Figure size 504x504 with 1 Axes>"
      ]
     },
     "metadata": {},
     "output_type": "display_data"
    }
   ],
   "source": [
    "fig, ax = plt.subplots(figsize = [7,7])\n",
    "#setting y scale as log for more readable graph\n",
    "ax.set_yscale('log')\n",
    "sns.countplot(x = 'pub_rec', data = loan[loan.loan_status == 'Charged Off'])\n",
    "plt.show()"
   ]
  },
  {
   "cell_type": "markdown",
   "metadata": {},
   "source": [
    "## Looking at issue date"
   ]
  },
  {
   "cell_type": "markdown",
   "metadata": {},
   "source": [
    "Extracting month and year from issue date"
   ]
  },
  {
   "cell_type": "code",
   "execution_count": 195,
   "metadata": {},
   "outputs": [],
   "source": [
    "loan['issue_month'] = loan['issue_d'].apply(lambda x : x.split('-')[0])\n",
    "loan['issue_year'] = loan['issue_d'].apply(lambda x : '20' + x.split('-')[1])"
   ]
  },
  {
   "cell_type": "code",
   "execution_count": 196,
   "metadata": {},
   "outputs": [
    {
     "data": {
      "text/html": [
       "<div>\n",
       "<style scoped>\n",
       "    .dataframe tbody tr th:only-of-type {\n",
       "        vertical-align: middle;\n",
       "    }\n",
       "\n",
       "    .dataframe tbody tr th {\n",
       "        vertical-align: top;\n",
       "    }\n",
       "\n",
       "    .dataframe thead th {\n",
       "        text-align: right;\n",
       "    }\n",
       "</style>\n",
       "<table border=\"1\" class=\"dataframe\">\n",
       "  <thead>\n",
       "    <tr style=\"text-align: right;\">\n",
       "      <th></th>\n",
       "      <th>loan_amnt</th>\n",
       "      <th>funded_amnt_inv</th>\n",
       "      <th>term</th>\n",
       "      <th>int_rate</th>\n",
       "      <th>installment</th>\n",
       "      <th>grade</th>\n",
       "      <th>sub_grade</th>\n",
       "      <th>emp_length</th>\n",
       "      <th>home_ownership</th>\n",
       "      <th>annual_inc</th>\n",
       "      <th>...</th>\n",
       "      <th>pub_rec</th>\n",
       "      <th>revol_util</th>\n",
       "      <th>total_acc</th>\n",
       "      <th>int_rate_group</th>\n",
       "      <th>open_acc_group</th>\n",
       "      <th>revol_util_group</th>\n",
       "      <th>total_acc_group</th>\n",
       "      <th>annual_inc_group</th>\n",
       "      <th>issue_month</th>\n",
       "      <th>issue_year</th>\n",
       "    </tr>\n",
       "  </thead>\n",
       "  <tbody>\n",
       "    <tr>\n",
       "      <th>0</th>\n",
       "      <td>5000</td>\n",
       "      <td>4975.0</td>\n",
       "      <td>36 months</td>\n",
       "      <td>10.65</td>\n",
       "      <td>162.87</td>\n",
       "      <td>B</td>\n",
       "      <td>2</td>\n",
       "      <td>10</td>\n",
       "      <td>RENT</td>\n",
       "      <td>24000.0</td>\n",
       "      <td>...</td>\n",
       "      <td>0</td>\n",
       "      <td>83.7</td>\n",
       "      <td>9</td>\n",
       "      <td>9% - 13%</td>\n",
       "      <td>2-10</td>\n",
       "      <td>80-100</td>\n",
       "      <td>2-20</td>\n",
       "      <td>3k-31k</td>\n",
       "      <td>Dec</td>\n",
       "      <td>2011</td>\n",
       "    </tr>\n",
       "    <tr>\n",
       "      <th>1</th>\n",
       "      <td>2500</td>\n",
       "      <td>2500.0</td>\n",
       "      <td>60 months</td>\n",
       "      <td>15.27</td>\n",
       "      <td>59.83</td>\n",
       "      <td>C</td>\n",
       "      <td>4</td>\n",
       "      <td>0</td>\n",
       "      <td>RENT</td>\n",
       "      <td>30000.0</td>\n",
       "      <td>...</td>\n",
       "      <td>0</td>\n",
       "      <td>9.4</td>\n",
       "      <td>4</td>\n",
       "      <td>13% - 17%</td>\n",
       "      <td>2-10</td>\n",
       "      <td>0-20</td>\n",
       "      <td>2-20</td>\n",
       "      <td>3k-31k</td>\n",
       "      <td>Dec</td>\n",
       "      <td>2011</td>\n",
       "    </tr>\n",
       "    <tr>\n",
       "      <th>2</th>\n",
       "      <td>2400</td>\n",
       "      <td>2400.0</td>\n",
       "      <td>36 months</td>\n",
       "      <td>15.96</td>\n",
       "      <td>84.33</td>\n",
       "      <td>C</td>\n",
       "      <td>5</td>\n",
       "      <td>10</td>\n",
       "      <td>RENT</td>\n",
       "      <td>12252.0</td>\n",
       "      <td>...</td>\n",
       "      <td>0</td>\n",
       "      <td>98.5</td>\n",
       "      <td>10</td>\n",
       "      <td>13% - 17%</td>\n",
       "      <td>2-10</td>\n",
       "      <td>80-100</td>\n",
       "      <td>2-20</td>\n",
       "      <td>3k-31k</td>\n",
       "      <td>Dec</td>\n",
       "      <td>2011</td>\n",
       "    </tr>\n",
       "    <tr>\n",
       "      <th>3</th>\n",
       "      <td>10000</td>\n",
       "      <td>10000.0</td>\n",
       "      <td>36 months</td>\n",
       "      <td>13.49</td>\n",
       "      <td>339.31</td>\n",
       "      <td>C</td>\n",
       "      <td>1</td>\n",
       "      <td>10</td>\n",
       "      <td>RENT</td>\n",
       "      <td>49200.0</td>\n",
       "      <td>...</td>\n",
       "      <td>0</td>\n",
       "      <td>21.0</td>\n",
       "      <td>37</td>\n",
       "      <td>13% - 17%</td>\n",
       "      <td>2-10</td>\n",
       "      <td>20-40</td>\n",
       "      <td>20 - 37</td>\n",
       "      <td>31k-58k</td>\n",
       "      <td>Dec</td>\n",
       "      <td>2011</td>\n",
       "    </tr>\n",
       "    <tr>\n",
       "      <th>4</th>\n",
       "      <td>5000</td>\n",
       "      <td>5000.0</td>\n",
       "      <td>36 months</td>\n",
       "      <td>7.90</td>\n",
       "      <td>156.46</td>\n",
       "      <td>A</td>\n",
       "      <td>4</td>\n",
       "      <td>3</td>\n",
       "      <td>RENT</td>\n",
       "      <td>36000.0</td>\n",
       "      <td>...</td>\n",
       "      <td>0</td>\n",
       "      <td>28.3</td>\n",
       "      <td>12</td>\n",
       "      <td>5% - 9%</td>\n",
       "      <td>2-10</td>\n",
       "      <td>20-40</td>\n",
       "      <td>2-20</td>\n",
       "      <td>31k-58k</td>\n",
       "      <td>Dec</td>\n",
       "      <td>2011</td>\n",
       "    </tr>\n",
       "  </tbody>\n",
       "</table>\n",
       "<p>5 rows × 29 columns</p>\n",
       "</div>"
      ],
      "text/plain": [
       "   loan_amnt  funded_amnt_inv        term  int_rate  installment grade  \\\n",
       "0       5000           4975.0   36 months     10.65       162.87     B   \n",
       "1       2500           2500.0   60 months     15.27        59.83     C   \n",
       "2       2400           2400.0   36 months     15.96        84.33     C   \n",
       "3      10000          10000.0   36 months     13.49       339.31     C   \n",
       "4       5000           5000.0   36 months      7.90       156.46     A   \n",
       "\n",
       "  sub_grade  emp_length home_ownership  annual_inc  ... pub_rec revol_util  \\\n",
       "0         2          10           RENT     24000.0  ...       0       83.7   \n",
       "1         4           0           RENT     30000.0  ...       0        9.4   \n",
       "2         5          10           RENT     12252.0  ...       0       98.5   \n",
       "3         1          10           RENT     49200.0  ...       0       21.0   \n",
       "4         4           3           RENT     36000.0  ...       0       28.3   \n",
       "\n",
       "  total_acc int_rate_group  open_acc_group  revol_util_group total_acc_group  \\\n",
       "0         9       9% - 13%            2-10            80-100            2-20   \n",
       "1         4      13% - 17%            2-10              0-20            2-20   \n",
       "2        10      13% - 17%            2-10            80-100            2-20   \n",
       "3        37      13% - 17%            2-10             20-40         20 - 37   \n",
       "4        12        5% - 9%            2-10             20-40            2-20   \n",
       "\n",
       "   annual_inc_group  issue_month  issue_year  \n",
       "0            3k-31k          Dec        2011  \n",
       "1            3k-31k          Dec        2011  \n",
       "2            3k-31k          Dec        2011  \n",
       "3           31k-58k          Dec        2011  \n",
       "4           31k-58k          Dec        2011  \n",
       "\n",
       "[5 rows x 29 columns]"
      ]
     },
     "execution_count": 196,
     "metadata": {},
     "output_type": "execute_result"
    }
   ],
   "source": [
    "#checking extracted month and year values\n",
    "\n",
    "loan.head()"
   ]
  },
  {
   "cell_type": "markdown",
   "metadata": {},
   "source": [
    "#### Visualizing issue month and year"
   ]
  },
  {
   "cell_type": "code",
   "execution_count": 197,
   "metadata": {},
   "outputs": [
    {
     "data": {
      "image/png": "[encoded data removed]",
      "text/plain": [
       "<Figure size 1080x1440 with 2 Axes>"
      ]
     },
     "metadata": {},
     "output_type": "display_data"
    }
   ],
   "source": [
    "plt.figure(figsize=(15,20))\n",
    "plt.subplot(221)\n",
    "sns.countplot(x='issue_month', data=loan[loan['loan_status']=='Charged Off'])\n",
    "plt.subplot(222)\n",
    "# ax.set_yscale('log')\n",
    "sns.countplot(x='issue_year', data=loan[loan['loan_status']=='Charged Off'])\n",
    "plt.show()"
   ]
  },
  {
   "cell_type": "markdown",
   "metadata": {},
   "source": [
    "## Maximum defaults occured for loans issued in the month of December of the year 2011."
   ]
  },
  {
   "cell_type": "markdown",
   "metadata": {},
   "source": [
    "## Creating bins for some more columns"
   ]
  },
  {
   "cell_type": "code",
   "execution_count": 198,
   "metadata": {},
   "outputs": [
    {
     "data": {
      "text/plain": [
       "count    36606.000000\n",
       "mean       312.088564\n",
       "std        199.238384\n",
       "min         15.690000\n",
       "25%        163.110000\n",
       "50%        270.845000\n",
       "75%        408.902500\n",
       "max       1305.190000\n",
       "Name: installment, dtype: float64"
      ]
     },
     "execution_count": 198,
     "metadata": {},
     "output_type": "execute_result"
    }
   ],
   "source": [
    "loan.installment.describe()"
   ]
  },
  {
   "cell_type": "code",
   "execution_count": 199,
   "metadata": {},
   "outputs": [
    {
     "data": {
      "text/plain": [
       "count    36606.000000\n",
       "mean      9902.311039\n",
       "std       6730.696329\n",
       "min          0.000000\n",
       "25%       4988.276705\n",
       "50%       8396.342174\n",
       "75%      13649.999283\n",
       "max      35000.000000\n",
       "Name: funded_amnt_inv, dtype: float64"
      ]
     },
     "execution_count": 199,
     "metadata": {},
     "output_type": "execute_result"
    }
   ],
   "source": [
    "loan.funded_amnt_inv.describe()"
   ]
  },
  {
   "cell_type": "code",
   "execution_count": 200,
   "metadata": {},
   "outputs": [
    {
     "data": {
      "text/plain": [
       "count    36606.000000\n",
       "mean     10690.058324\n",
       "std       7048.412687\n",
       "min        500.000000\n",
       "25%       5000.000000\n",
       "50%       9250.000000\n",
       "75%      15000.000000\n",
       "max      35000.000000\n",
       "Name: loan_amnt, dtype: float64"
      ]
     },
     "execution_count": 200,
     "metadata": {},
     "output_type": "execute_result"
    }
   ],
   "source": [
    "loan.loan_amnt.describe()"
   ]
  },
  {
   "cell_type": "code",
   "execution_count": 201,
   "metadata": {},
   "outputs": [
    {
     "data": {
      "text/plain": [
       "count    36606.000000\n",
       "mean        13.450146\n",
       "std          6.660418\n",
       "min          0.000000\n",
       "25%          8.350000\n",
       "50%         13.580000\n",
       "75%         18.720000\n",
       "max         29.990000\n",
       "Name: dti, dtype: float64"
      ]
     },
     "execution_count": 201,
     "metadata": {},
     "output_type": "execute_result"
    }
   ],
   "source": [
    "loan.dti.describe()"
   ]
  },
  {
   "cell_type": "code",
   "execution_count": 202,
   "metadata": {},
   "outputs": [],
   "source": [
    "# creating bins\n",
    "\n",
    "loan['installment_group'] = pd.cut(loan['installment'], bins=10,precision =0,labels=['14-145','145-274','274-403','403-531','531-660','660-789','789-918','918-1047','1047-1176','1176-1305'])\n",
    "loan['funded_amnt_inv_group'] = pd.cut(loan['funded_amnt_inv'], bins=7,labels=['0-5k','5k-10k','10k-15k','15k-20k','20k-25k','25k-30k','30k-35k'])\n",
    "loan['loan_amnt_group'] = pd.cut(loan['loan_amnt'], bins=7,precision =0,labels=['0-5k','5k-10k','10k-15k','15k-20k','20k-25k','25k-30k','30k-35k'])\n",
    "loan['dti_group'] = pd.cut(loan['dti'], bins=5,precision =0,labels=['0-6','6-12','12-18','18-24','24-30'])"
   ]
  },
  {
   "cell_type": "code",
   "execution_count": 203,
   "metadata": {},
   "outputs": [
    {
     "data": {
      "text/html": [
       "<div>\n",
       "<style scoped>\n",
       "    .dataframe tbody tr th:only-of-type {\n",
       "        vertical-align: middle;\n",
       "    }\n",
       "\n",
       "    .dataframe tbody tr th {\n",
       "        vertical-align: top;\n",
       "    }\n",
       "\n",
       "    .dataframe thead th {\n",
       "        text-align: right;\n",
       "    }\n",
       "</style>\n",
       "<table border=\"1\" class=\"dataframe\">\n",
       "  <thead>\n",
       "    <tr style=\"text-align: right;\">\n",
       "      <th></th>\n",
       "      <th>loan_amnt</th>\n",
       "      <th>funded_amnt_inv</th>\n",
       "      <th>term</th>\n",
       "      <th>int_rate</th>\n",
       "      <th>installment</th>\n",
       "      <th>grade</th>\n",
       "      <th>sub_grade</th>\n",
       "      <th>emp_length</th>\n",
       "      <th>home_ownership</th>\n",
       "      <th>annual_inc</th>\n",
       "      <th>...</th>\n",
       "      <th>open_acc_group</th>\n",
       "      <th>revol_util_group</th>\n",
       "      <th>total_acc_group</th>\n",
       "      <th>annual_inc_group</th>\n",
       "      <th>issue_month</th>\n",
       "      <th>issue_year</th>\n",
       "      <th>installment_group</th>\n",
       "      <th>funded_amnt_inv_group</th>\n",
       "      <th>loan_amnt_group</th>\n",
       "      <th>dti_group</th>\n",
       "    </tr>\n",
       "  </thead>\n",
       "  <tbody>\n",
       "    <tr>\n",
       "      <th>0</th>\n",
       "      <td>5000</td>\n",
       "      <td>4975.0</td>\n",
       "      <td>36 months</td>\n",
       "      <td>10.65</td>\n",
       "      <td>162.87</td>\n",
       "      <td>B</td>\n",
       "      <td>2</td>\n",
       "      <td>10</td>\n",
       "      <td>RENT</td>\n",
       "      <td>24000.0</td>\n",
       "      <td>...</td>\n",
       "      <td>2-10</td>\n",
       "      <td>80-100</td>\n",
       "      <td>2-20</td>\n",
       "      <td>3k-31k</td>\n",
       "      <td>Dec</td>\n",
       "      <td>2011</td>\n",
       "      <td>145-274</td>\n",
       "      <td>0-5k</td>\n",
       "      <td>0-5k</td>\n",
       "      <td>24-30</td>\n",
       "    </tr>\n",
       "    <tr>\n",
       "      <th>1</th>\n",
       "      <td>2500</td>\n",
       "      <td>2500.0</td>\n",
       "      <td>60 months</td>\n",
       "      <td>15.27</td>\n",
       "      <td>59.83</td>\n",
       "      <td>C</td>\n",
       "      <td>4</td>\n",
       "      <td>0</td>\n",
       "      <td>RENT</td>\n",
       "      <td>30000.0</td>\n",
       "      <td>...</td>\n",
       "      <td>2-10</td>\n",
       "      <td>0-20</td>\n",
       "      <td>2-20</td>\n",
       "      <td>3k-31k</td>\n",
       "      <td>Dec</td>\n",
       "      <td>2011</td>\n",
       "      <td>14-145</td>\n",
       "      <td>0-5k</td>\n",
       "      <td>0-5k</td>\n",
       "      <td>0-6</td>\n",
       "    </tr>\n",
       "    <tr>\n",
       "      <th>2</th>\n",
       "      <td>2400</td>\n",
       "      <td>2400.0</td>\n",
       "      <td>36 months</td>\n",
       "      <td>15.96</td>\n",
       "      <td>84.33</td>\n",
       "      <td>C</td>\n",
       "      <td>5</td>\n",
       "      <td>10</td>\n",
       "      <td>RENT</td>\n",
       "      <td>12252.0</td>\n",
       "      <td>...</td>\n",
       "      <td>2-10</td>\n",
       "      <td>80-100</td>\n",
       "      <td>2-20</td>\n",
       "      <td>3k-31k</td>\n",
       "      <td>Dec</td>\n",
       "      <td>2011</td>\n",
       "      <td>14-145</td>\n",
       "      <td>0-5k</td>\n",
       "      <td>0-5k</td>\n",
       "      <td>6-12</td>\n",
       "    </tr>\n",
       "    <tr>\n",
       "      <th>3</th>\n",
       "      <td>10000</td>\n",
       "      <td>10000.0</td>\n",
       "      <td>36 months</td>\n",
       "      <td>13.49</td>\n",
       "      <td>339.31</td>\n",
       "      <td>C</td>\n",
       "      <td>1</td>\n",
       "      <td>10</td>\n",
       "      <td>RENT</td>\n",
       "      <td>49200.0</td>\n",
       "      <td>...</td>\n",
       "      <td>2-10</td>\n",
       "      <td>20-40</td>\n",
       "      <td>20 - 37</td>\n",
       "      <td>31k-58k</td>\n",
       "      <td>Dec</td>\n",
       "      <td>2011</td>\n",
       "      <td>274-403</td>\n",
       "      <td>5k-10k</td>\n",
       "      <td>5k-10k</td>\n",
       "      <td>18-24</td>\n",
       "    </tr>\n",
       "    <tr>\n",
       "      <th>4</th>\n",
       "      <td>5000</td>\n",
       "      <td>5000.0</td>\n",
       "      <td>36 months</td>\n",
       "      <td>7.90</td>\n",
       "      <td>156.46</td>\n",
       "      <td>A</td>\n",
       "      <td>4</td>\n",
       "      <td>3</td>\n",
       "      <td>RENT</td>\n",
       "      <td>36000.0</td>\n",
       "      <td>...</td>\n",
       "      <td>2-10</td>\n",
       "      <td>20-40</td>\n",
       "      <td>2-20</td>\n",
       "      <td>31k-58k</td>\n",
       "      <td>Dec</td>\n",
       "      <td>2011</td>\n",
       "      <td>145-274</td>\n",
       "      <td>0-5k</td>\n",
       "      <td>0-5k</td>\n",
       "      <td>6-12</td>\n",
       "    </tr>\n",
       "  </tbody>\n",
       "</table>\n",
       "<p>5 rows × 33 columns</p>\n",
       "</div>"
      ],
      "text/plain": [
       "   loan_amnt  funded_amnt_inv        term  int_rate  installment grade  \\\n",
       "0       5000           4975.0   36 months     10.65       162.87     B   \n",
       "1       2500           2500.0   60 months     15.27        59.83     C   \n",
       "2       2400           2400.0   36 months     15.96        84.33     C   \n",
       "3      10000          10000.0   36 months     13.49       339.31     C   \n",
       "4       5000           5000.0   36 months      7.90       156.46     A   \n",
       "\n",
       "  sub_grade  emp_length home_ownership  annual_inc  ... open_acc_group  \\\n",
       "0         2          10           RENT     24000.0  ...           2-10   \n",
       "1         4           0           RENT     30000.0  ...           2-10   \n",
       "2         5          10           RENT     12252.0  ...           2-10   \n",
       "3         1          10           RENT     49200.0  ...           2-10   \n",
       "4         4           3           RENT     36000.0  ...           2-10   \n",
       "\n",
       "  revol_util_group total_acc_group annual_inc_group  issue_month  issue_year  \\\n",
       "0           80-100            2-20           3k-31k          Dec        2011   \n",
       "1             0-20            2-20           3k-31k          Dec        2011   \n",
       "2           80-100            2-20           3k-31k          Dec        2011   \n",
       "3            20-40         20 - 37          31k-58k          Dec        2011   \n",
       "4            20-40            2-20          31k-58k          Dec        2011   \n",
       "\n",
       "  installment_group  funded_amnt_inv_group  loan_amnt_group  dti_group  \n",
       "0           145-274                   0-5k             0-5k      24-30  \n",
       "1            14-145                   0-5k             0-5k        0-6  \n",
       "2            14-145                   0-5k             0-5k       6-12  \n",
       "3           274-403                 5k-10k           5k-10k      18-24  \n",
       "4           145-274                   0-5k             0-5k       6-12  \n",
       "\n",
       "[5 rows x 33 columns]"
      ]
     },
     "execution_count": 203,
     "metadata": {},
     "output_type": "execute_result"
    }
   ],
   "source": [
    "#checking new columns\n",
    "\n",
    "loan.head()"
   ]
  },
  {
   "cell_type": "markdown",
   "metadata": {},
   "source": [
    "## Visualizing funded_amnt_inv"
   ]
  },
  {
   "cell_type": "code",
   "execution_count": 204,
   "metadata": {},
   "outputs": [
    {
     "data": {
      "image/png": "[encoded data removed]",
      "text/plain": [
       "<Figure size 864x864 with 1 Axes>"
      ]
     },
     "metadata": {},
     "output_type": "display_data"
    }
   ],
   "source": [
    "fig, ax = plt.subplots(figsize = (12,12))\n",
    "ax.set_yscale('log')\n",
    "sns.countplot(x = 'funded_amnt_inv_group', data = loan[loan.loan_status == 'Charged Off'])\n",
    "plt.show()"
   ]
  },
  {
   "cell_type": "markdown",
   "metadata": {},
   "source": [
    "## Visualizing loan_amnt"
   ]
  },
  {
   "cell_type": "code",
   "execution_count": 205,
   "metadata": {},
   "outputs": [
    {
     "data": {
      "image/png": "[encoded data removed]",
      "text/plain": [
       "<Figure size 864x864 with 2 Axes>"
      ]
     },
     "metadata": {},
     "output_type": "display_data"
    }
   ],
   "source": [
    "fig, ax = plt.subplots(figsize = (12,12))\n",
    "plt.subplot(221)\n",
    "sns.countplot(x = 'loan_amnt_group', data = loan[loan.loan_status == 'Charged Off'])\n",
    "plt.subplot(222)\n",
    "sns.boxplot(loan.loan_amnt)\n",
    "plt.show()"
   ]
  },
  {
   "cell_type": "markdown",
   "metadata": {},
   "source": [
    "## Observation - \n",
    "\n",
    "Most of the Loan amounts are in range of 5000 - 15000."
   ]
  },
  {
   "cell_type": "markdown",
   "metadata": {},
   "source": [
    "## Visualizing dti"
   ]
  },
  {
   "cell_type": "code",
   "execution_count": 206,
   "metadata": {},
   "outputs": [
    {
     "data": {
      "image/png": "[encoded data removed]",
      "text/plain": [
       "<Figure size 432x288 with 1 Axes>"
      ]
     },
     "metadata": {},
     "output_type": "display_data"
    }
   ],
   "source": [
    "sns.countplot(x = 'dti_group', data = loan[loan.loan_status == 'Charged Off'])\n",
    "plt.show()"
   ]
  },
  {
   "cell_type": "markdown",
   "metadata": {},
   "source": [
    "## Visualizing installment"
   ]
  },
  {
   "cell_type": "code",
   "execution_count": 207,
   "metadata": {
    "scrolled": true
   },
   "outputs": [
    {
     "data": {
      "image/png": "[encoded data removed]",
      "text/plain": [
       "<Figure size 864x864 with 1 Axes>"
      ]
     },
     "metadata": {},
     "output_type": "display_data"
    }
   ],
   "source": [
    "fig, ax = plt.subplots(figsize = (12,12))\n",
    "ax.set_yscale('log')\n",
    "sns.countplot(x = 'installment_group', data = loan[loan.loan_status == 'Charged Off'])\n",
    "plt.show()"
   ]
  },
  {
   "cell_type": "markdown",
   "metadata": {},
   "source": [
    "# Observations so far\n",
    "\n",
    "#### We have analysed each variable for charged off loans. Thus, there is higher probability for defaulting in case:\n",
    "\n",
    "- LC assigned loan grade 5 with sublevel 5\n",
    "- Home ownership is 'RENT'\n",
    "- Purpose of loan is debt consolation i.e. to clear other debts\n",
    "- Interest rate is 13% - 17%\n",
    "- The number of open credit lines in the borrower's credit file is 2-10\n",
    "- Revolving line utilization rate is 60-80\n",
    "- Total number of credit lines is 2-20\n",
    "- Annual income is in the range of 31k - 58k\n",
    "- Term i.e. the number of payments on the loan of loan is 36 months\n",
    "- Income Verification status is 'Not Verified'\n",
    "- Number of inquiries in last 6 months is 0\n",
    "- Number of derogatory public records is 0\n",
    "- The total amount committed by investors for that loan at that point in time was 5k - 10k\n",
    "- The listed amount of the loan applied for by the borrower was 5k - 10k\n",
    "- dti i.e. A ratio calculated using the borrower’s total monthly debt payments on the total debt obligations, excluding mortgage and the requested LC loan, divided by the borrower’s self-reported monthly income was 12-18\n",
    "- Installment i.e. The monthly payment owed by the borrower was 145 - 274\n",
    "\n",
    "\n",
    "#### Loans issued in the month of December 2011 had a very high defaulter rate, maybe there was a recession or market crash at the time."
   ]
  },
  {
   "cell_type": "markdown",
   "metadata": {},
   "source": [
    "# A heatmap to see correlated columns for further analysis."
   ]
  },
  {
   "cell_type": "code",
   "execution_count": 208,
   "metadata": {
    "scrolled": false
   },
   "outputs": [
    {
     "data": {
      "image/png": "[encoded data removed]",
      "text/plain": [
       "<Figure size 720x720 with 2 Axes>"
      ]
     },
     "metadata": {},
     "output_type": "display_data"
    }
   ],
   "source": [
    "plt.figure(figsize = [10,10])\n",
    "sns.heatmap(loan.corr(), annot=True)\n",
    "plt.show()"
   ]
  },
  {
   "cell_type": "markdown",
   "metadata": {},
   "source": [
    "## Based on this we analyze certain pairs of columns for more insights."
   ]
  },
  {
   "cell_type": "markdown",
   "metadata": {},
   "source": [
    "## Annual Income with other columns"
   ]
  },
  {
   "cell_type": "markdown",
   "metadata": {},
   "source": [
    "#### Annual Income vs. Loan Purpose"
   ]
  },
  {
   "cell_type": "code",
   "execution_count": 209,
   "metadata": {},
   "outputs": [
    {
     "data": {
      "image/png": "[encoded data removed]",
      "text/plain": [
       "<Figure size 720x720 with 1 Axes>"
      ]
     },
     "metadata": {},
     "output_type": "display_data"
    }
   ],
   "source": [
    "plt.figure(figsize = [10,10])\n",
    "sns.barplot(data = loan , x = 'annual_inc', y = 'purpose', hue = 'loan_status')\n",
    "plt.show()"
   ]
  },
  {
   "cell_type": "markdown",
   "metadata": {},
   "source": [
    "#### Observation - \n",
    "Even though loans defaulted are highest in number for 'debt consolation' purpose, when we take look at annual income, the highest annual income defaulters apply for loans for 'home improvement', 'renewable energy', 'small business', 'wedding'."
   ]
  },
  {
   "cell_type": "markdown",
   "metadata": {},
   "source": [
    "#### Annual Income vs. Home Ownership"
   ]
  },
  {
   "cell_type": "code",
   "execution_count": 210,
   "metadata": {},
   "outputs": [
    {
     "data": {
      "image/png": "[encoded data removed]",
      "text/plain": [
       "<Figure size 720x720 with 1 Axes>"
      ]
     },
     "metadata": {},
     "output_type": "display_data"
    }
   ],
   "source": [
    "plt.figure(figsize = [10,10])\n",
    "sns.barplot(data = loan , x = 'annual_inc', y = 'home_ownership', hue = 'loan_status')\n",
    "plt.show()"
   ]
  },
  {
   "cell_type": "markdown",
   "metadata": {},
   "source": [
    "#### Observation - \n",
    "Even though loans defaulted are highest in number for 'rent' purpose, when we take look at annual income, the highest annual income defaulters are on 'mortgage'"
   ]
  },
  {
   "cell_type": "markdown",
   "metadata": {},
   "source": [
    "#### Annual Income vs. Loan Amount"
   ]
  },
  {
   "cell_type": "code",
   "execution_count": 211,
   "metadata": {},
   "outputs": [
    {
     "data": {
      "image/png": "[encoded data removed]",
      "text/plain": [
       "<Figure size 720x720 with 1 Axes>"
      ]
     },
     "metadata": {},
     "output_type": "display_data"
    }
   ],
   "source": [
    "plt.figure(figsize = [10,10])\n",
    "sns.barplot(data = loan , x = 'annual_inc_group', y = 'loan_amnt', hue = 'loan_status')\n",
    "plt.show()"
   ]
  },
  {
   "cell_type": "markdown",
   "metadata": {},
   "source": [
    "#### Observation - \n",
    "Over all the income groups, the defaulters are ones who have applied for larger loans."
   ]
  },
  {
   "cell_type": "markdown",
   "metadata": {},
   "source": [
    "#### Annual Income vs. Installment"
   ]
  },
  {
   "cell_type": "code",
   "execution_count": 212,
   "metadata": {},
   "outputs": [
    {
     "data": {
      "image/png": "[encoded data removed]",
      "text/plain": [
       "<Figure size 720x720 with 1 Axes>"
      ]
     },
     "metadata": {},
     "output_type": "display_data"
    }
   ],
   "source": [
    "plt.figure(figsize = [10,10])\n",
    "sns.barplot(data = loan , x = 'annual_inc_group', y = 'installment', hue = 'loan_status')\n",
    "plt.show()"
   ]
  },
  {
   "cell_type": "markdown",
   "metadata": {},
   "source": [
    "#### Observation - \n",
    "As expected over all income groups the defaulters are ones with higher installments & also the installment amount goes up with increaing annual income."
   ]
  },
  {
   "cell_type": "markdown",
   "metadata": {},
   "source": [
    "#### Annual Income vs. Interest Rate"
   ]
  },
  {
   "cell_type": "code",
   "execution_count": 213,
   "metadata": {
    "scrolled": true
   },
   "outputs": [
    {
     "data": {
      "image/png": "[encoded data removed]",
      "text/plain": [
       "<Figure size 720x720 with 1 Axes>"
      ]
     },
     "metadata": {},
     "output_type": "display_data"
    }
   ],
   "source": [
    "plt.figure(figsize = [10,10])\n",
    "sns.barplot(data = loan , x = 'annual_inc_group', y = 'int_rate', hue = 'loan_status')\n",
    "plt.show()"
   ]
  },
  {
   "cell_type": "markdown",
   "metadata": {},
   "source": [
    "#### Observation - \n",
    "As expected over all income groups the defaulters are ones with higher interest rates & also the interest rates goes up with increaing annual income."
   ]
  },
  {
   "cell_type": "markdown",
   "metadata": {},
   "source": [
    "#### Annual Income vs. Grade"
   ]
  },
  {
   "cell_type": "code",
   "execution_count": 229,
   "metadata": {},
   "outputs": [
    {
     "data": {
      "image/png": "[encoded data removed]",
      "text/plain": [
       "<Figure size 720x720 with 1 Axes>"
      ]
     },
     "metadata": {},
     "output_type": "display_data"
    }
   ],
   "source": [
    "plt.figure(figsize = [10,10])\n",
    "sns.barplot(data = loan , x = 'annual_inc', y = 'grade', hue = 'loan_status')\n",
    "plt.show()"
   ]
  },
  {
   "cell_type": "markdown",
   "metadata": {},
   "source": [
    "## Loan Amount with other columns"
   ]
  },
  {
   "cell_type": "markdown",
   "metadata": {},
   "source": [
    "#### Loan Amount vs Interest Rate"
   ]
  },
  {
   "cell_type": "code",
   "execution_count": 214,
   "metadata": {
    "scrolled": true
   },
   "outputs": [
    {
     "data": {
      "image/png": "[encoded data removed]",
      "text/plain": [
       "<Figure size 720x720 with 1 Axes>"
      ]
     },
     "metadata": {},
     "output_type": "display_data"
    }
   ],
   "source": [
    "plt.figure(figsize = [10,10])\n",
    "sns.barplot(data = loan , x = 'loan_amnt_group', y = 'int_rate', hue = 'loan_status')\n",
    "plt.show()"
   ]
  },
  {
   "cell_type": "markdown",
   "metadata": {},
   "source": [
    "#### Observation - \n",
    "Higher loan amounts mean higher interest rates and within an interest rate group the defaulters are ones with the higher interest rate."
   ]
  },
  {
   "cell_type": "markdown",
   "metadata": {},
   "source": [
    "#### Loan Amount vs Loan Purpose"
   ]
  },
  {
   "cell_type": "code",
   "execution_count": 215,
   "metadata": {},
   "outputs": [
    {
     "data": {
      "image/png": "[encoded data removed]",
      "text/plain": [
       "<Figure size 720x720 with 1 Axes>"
      ]
     },
     "metadata": {},
     "output_type": "display_data"
    }
   ],
   "source": [
    "plt.figure(figsize = [10,10])\n",
    "sns.barplot(data = loan , x = 'loan_amnt', y = 'purpose', hue = 'loan_status')\n",
    "plt.show()"
   ]
  },
  {
   "cell_type": "markdown",
   "metadata": {},
   "source": [
    "#### Observation - \n",
    "Highest loan amounts are for small business, debt consolidation & houses. The defaulters all have higher loan amounts compared to the poeple who paid off their loans across all categories except moving, house & renewable energy."
   ]
  },
  {
   "cell_type": "markdown",
   "metadata": {},
   "source": [
    "#### Loan Amount vs House Ownership"
   ]
  },
  {
   "cell_type": "code",
   "execution_count": 216,
   "metadata": {},
   "outputs": [
    {
     "data": {
      "image/png": "[encoded data removed]",
      "text/plain": [
       "<Figure size 720x720 with 1 Axes>"
      ]
     },
     "metadata": {},
     "output_type": "display_data"
    }
   ],
   "source": [
    "plt.figure(figsize = [10,10])\n",
    "sns.barplot(data = loan , x = 'loan_amnt', y = 'home_ownership', hue = 'loan_status')\n",
    "plt.show()"
   ]
  },
  {
   "cell_type": "markdown",
   "metadata": {},
   "source": [
    "#### Observation - \n",
    "Highest loan amounts are for small business, debt consolidation & houses. The defaulters all have higher loan amounts compared to the poeple who paid off their loans across all categories except moving, house & renewable energy."
   ]
  },
  {
   "cell_type": "markdown",
   "metadata": {},
   "source": [
    "#### Loan Amount vs Issue Month & Year"
   ]
  },
  {
   "cell_type": "code",
   "execution_count": 217,
   "metadata": {},
   "outputs": [
    {
     "data": {
      "image/png": "[encoded data removed]",
      "text/plain": [
       "<Figure size 1440x1440 with 2 Axes>"
      ]
     },
     "metadata": {},
     "output_type": "display_data"
    }
   ],
   "source": [
    "plt.figure(figsize = [20,20])\n",
    "plt.subplot(221)\n",
    "sns.barplot(data = loan , x = 'loan_amnt', y = 'issue_month', hue = 'loan_status')\n",
    "plt.subplot(222)\n",
    "sns.barplot(data = loan , x = 'loan_amnt', y = 'issue_year', hue = 'loan_status')\n",
    "plt.show()"
   ]
  },
  {
   "cell_type": "markdown",
   "metadata": {},
   "source": [
    "#### Loan Amount vs Grade"
   ]
  },
  {
   "cell_type": "code",
   "execution_count": 218,
   "metadata": {},
   "outputs": [
    {
     "data": {
      "image/png": "[encoded data removed]",
      "text/plain": [
       "<Figure size 720x720 with 1 Axes>"
      ]
     },
     "metadata": {},
     "output_type": "display_data"
    }
   ],
   "source": [
    "plt.figure(figsize = [10,10])\n",
    "sns.barplot(data = loan , x = 'loan_amnt', y = 'grade', hue = 'loan_status')\n",
    "plt.show()"
   ]
  },
  {
   "cell_type": "markdown",
   "metadata": {},
   "source": [
    "#### Observation - \n",
    "Even though highest likely defaulters were from grade 'B', in general those loans are lower loan amounts."
   ]
  },
  {
   "cell_type": "markdown",
   "metadata": {},
   "source": [
    "#### Loan Amount vs Employee Length (working history)"
   ]
  },
  {
   "cell_type": "code",
   "execution_count": 219,
   "metadata": {},
   "outputs": [
    {
     "data": {
      "image/png": "[encoded data removed]",
      "text/plain": [
       "<Figure size 1440x1440 with 2 Axes>"
      ]
     },
     "metadata": {},
     "output_type": "display_data"
    }
   ],
   "source": [
    "plt.figure(figsize = [20,20])\n",
    "plt.subplot(221)\n",
    "sns.barplot(data = loan , x = 'loan_amnt_group', y = 'emp_length', hue = 'loan_status')\n",
    "plt.subplot(222)\n",
    "sns.barplot(data = loan , x = 'loan_amnt', y = 'verification_status', hue = 'loan_status')\n",
    "plt.show()"
   ]
  },
  {
   "cell_type": "markdown",
   "metadata": {},
   "source": [
    "#### Observation - \n",
    "\n",
    "- Employees who've been working for longer recieve higher loan amounts.\n",
    "- Higher loan amounts are verified.\n",
    "- Thus, perhaps longer working history leads to verified loans"
   ]
  },
  {
   "cell_type": "markdown",
   "metadata": {},
   "source": [
    "### Loan Amount vs Term"
   ]
  },
  {
   "cell_type": "code",
   "execution_count": 220,
   "metadata": {
    "scrolled": false
   },
   "outputs": [
    {
     "data": {
      "image/png": "[encoded data removed]",
      "text/plain": [
       "<Figure size 720x720 with 1 Axes>"
      ]
     },
     "metadata": {},
     "output_type": "display_data"
    }
   ],
   "source": [
    "plt.figure(figsize = [10,10])\n",
    "sns.barplot(data = loan , x = 'term', y = 'loan_amnt', hue = 'loan_status')\n",
    "plt.show()"
   ]
  },
  {
   "cell_type": "markdown",
   "metadata": {},
   "source": [
    "#### Observation - \n",
    "\n",
    "- As expected higher loan amounts have higher terms."
   ]
  },
  {
   "cell_type": "markdown",
   "metadata": {},
   "source": [
    "## Grade vs Interest Rate"
   ]
  },
  {
   "cell_type": "code",
   "execution_count": 221,
   "metadata": {
    "scrolled": true
   },
   "outputs": [
    {
     "data": {
      "image/png": "[encoded data removed]",
      "text/plain": [
       "<Figure size 720x720 with 1 Axes>"
      ]
     },
     "metadata": {},
     "output_type": "display_data"
    }
   ],
   "source": [
    "plt.figure(figsize = [10,10])\n",
    "sns.barplot(data = loan , x = 'int_rate', y = 'grade', hue = 'loan_status')\n",
    "plt.show()"
   ]
  },
  {
   "cell_type": "markdown",
   "metadata": {},
   "source": [
    "## Term vs Interest Rate"
   ]
  },
  {
   "cell_type": "code",
   "execution_count": 222,
   "metadata": {
    "scrolled": true
   },
   "outputs": [
    {
     "data": {
      "image/png": "[encoded data removed]",
      "text/plain": [
       "<Figure size 720x720 with 1 Axes>"
      ]
     },
     "metadata": {},
     "output_type": "display_data"
    }
   ],
   "source": [
    "plt.figure(figsize = [10,10])\n",
    "sns.barplot(data = loan , x = 'term', y = 'int_rate', hue = 'loan_status')\n",
    "plt.show()"
   ]
  },
  {
   "cell_type": "markdown",
   "metadata": {},
   "source": [
    "## Purpose vs Interest Rate"
   ]
  },
  {
   "cell_type": "code",
   "execution_count": 225,
   "metadata": {},
   "outputs": [
    {
     "data": {
      "image/png": "[encoded data removed]",
      "text/plain": [
       "<Figure size 720x720 with 1 Axes>"
      ]
     },
     "metadata": {},
     "output_type": "display_data"
    }
   ],
   "source": [
    "plt.figure(figsize = [10,10])\n",
    "sns.barplot(data = loan , x = 'purpose', y = 'int_rate', hue = 'loan_status')\n",
    "plt.xticks(rotation = 90)\n",
    "plt.show()"
   ]
  },
  {
   "cell_type": "markdown",
   "metadata": {},
   "source": [
    "## DTI vs Interest Rate"
   ]
  },
  {
   "cell_type": "code",
   "execution_count": 227,
   "metadata": {
    "scrolled": true
   },
   "outputs": [
    {
     "data": {
      "image/png": "[encoded data removed]",
      "text/plain": [
       "<Figure size 720x720 with 1 Axes>"
      ]
     },
     "metadata": {},
     "output_type": "display_data"
    }
   ],
   "source": [
    "plt.figure(figsize = [10,10])\n",
    "sns.barplot(data = loan , x = 'dti_group', y = 'int_rate', hue = 'loan_status')\n",
    "# plt.xticks(rotation = 90)\n",
    "plt.show()"
   ]
  },
  {
   "cell_type": "markdown",
   "metadata": {},
   "source": [
    "## Year vs Interest Rate"
   ]
  },
  {
   "cell_type": "code",
   "execution_count": 230,
   "metadata": {},
   "outputs": [
    {
     "data": {
      "image/png": "[encoded data removed]",
      "text/plain": [
       "<Figure size 720x720 with 1 Axes>"
      ]
     },
     "metadata": {},
     "output_type": "display_data"
    }
   ],
   "source": [
    "plt.figure(figsize = [10,10])\n",
    "sns.barplot(data = loan , x = 'issue_year', y = 'int_rate', hue = 'loan_status')\n",
    "# plt.xticks(rotation = 90)\n",
    "plt.show()"
   ]
  },
  {
   "cell_type": "markdown",
   "metadata": {},
   "source": [
    "# Further Observations based on the above analysis.\n",
    "\n",
    "## To sum up some of the above observations:\n",
    "\n",
    "- Even though loans defaulted are highest in number for 'debt consolation' purpose, when we take look at annual income, the highest annual income defaulters apply for loans for 'home improvement', 'renewable energy', 'small business', 'wedding'.\n",
    "- Even though loans defaulted are highest in number for 'rent' purpose, when we take look at annual income, the highest annual income defaulters are on 'mortgage'.\n",
    "- Higher annual income means higher loan amounts which consequently also means higher installments.\n",
    "- As expected over all income groups the defaulters are ones with higher installments & also the installment amount goes up with increaing annual income.\n",
    "- Over all income groups the defaulters are ones with higher interest rates & also the interest rates goes up with increaing annual income.\n",
    "- Over all the income groups, the defaulters are ones who have applied for larger loans.\n",
    "- Higher loan amounts mean higher interest rates and within an interest rate group the defaulters are ones with the higher interest rate.\n",
    "- Highest loan amounts are for small business, debt consolidation & houses. The defaulters all have higher loan amounts compared to the poeple who paid off their loans across all categories except moving, house & renewable energy.\n",
    "- Even though highest likely defaulters were from grade 'B', in general those loans are lower loan amounts.\n",
    "- Employees who've been working for longer recieve higher loan amounts.\n",
    "- Higher loan amounts are verified.\n",
    "- Thus, perhaps longer working history leads to verified loans.\n",
    "- As expected higher loan amounts have higher terms.\n",
    "\n",
    "\n",
    "## The probability for defaulting is more when:\n",
    "\n",
    "- Those taking loans for purpose 'home improvement' & have income of 60k - 70k.\n",
    "- Those taking loans whose home ownership is 'mortgage' & have income of 60k - 70k.\n",
    "- Those whose home ownership is 'MORTGAGE and have loan of 13-14k.\n",
    "- Those whose grade is F and loan amount is between 15k-20k.\n",
    "- Those whose loan is verified and loan amount is above 16k.\n",
    "- Those whose grade is G and interest rate above 20%."
   ]
  }
 ],
 "metadata": {
  "kernelspec": {
   "display_name": "Python 3 (ipykernel)",
   "language": "python",
   "name": "python3"
  },
  "language_info": {
   "codemirror_mode": {
    "name": "ipython",
    "version": 3
   },
   "file_extension": ".py",
   "mimetype": "text/x-python",
   "name": "python",
   "nbconvert_exporter": "python",
   "pygments_lexer": "ipython3",
   "version": "3.9.12"
  }
 },
 "nbformat": 4,
 "nbformat_minor": 4
}
